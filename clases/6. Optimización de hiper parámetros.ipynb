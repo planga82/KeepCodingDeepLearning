{
  "nbformat": 4,
  "nbformat_minor": 0,
  "metadata": {
    "colab": {
      "name": "6. Optimización de hiper-parámetros.ipynb",
      "version": "0.3.2",
      "views": {},
      "default_view": {},
      "provenance": [
        {
          "file_id": "1bvVgiYQlVe9sD210JG-uYh-uoiaJ-7UF",
          "timestamp": 1529228003777
        }
      ],
      "collapsed_sections": []
    },
    "kernelspec": {
      "name": "python3",
      "display_name": "Python 3"
    },
    "accelerator": "GPU"
  },
  "cells": [
    {
      "metadata": {
        "id": "bpSt_OQ47_4P",
        "colab_type": "text"
      },
      "cell_type": "markdown",
      "source": [
        "# 6. Optimización de hiper-parámetros\n",
        "\n",
        "¡Bienvenidos a la sexta sesión! Ahora que ya sabemos lo que son las redes neuronales, las redes convolucionales y todos sus parámetros y entresijos, vamos a ver cómo podemos optimizarlas al máximo.\n",
        "\n",
        "Para ello, hoy veremos:\n",
        "\n",
        "**Optimización de hiper-parámetros**\n",
        "* Grid search\n",
        "* Hyperopt\n",
        "* Algoritmos genéticos\n"
      ]
    },
    {
      "metadata": {
        "id": "yvLzmsFm8bv9",
        "colab_type": "text"
      },
      "cell_type": "markdown",
      "source": [
        "## 6.1 Grid search\n",
        "\n",
        "El grid search es el método más sencillo que existe para encontrar los mejores parámetros dentro de un conjunto. Esencialmente se trata de fuerza bruta. Vamos a ver un ejemplo sencillo:\n",
        "\n",
        "Suponed que tenemos nuestra anterior red y queremos ver qué parámetros son los mejores. Tenemos:\n",
        "\n",
        "* dropout: puede variar de 0 a 0.5 en intervalos 0.1\n",
        "* learning rate: puede variar de 0.1 a 0.001 en intervalos de x10\n",
        "* número de filtros: puede variar de 64 a 256 en intervalos de 64\n",
        "* tamaños del filtro: puede variar desde 3 hasta 7 de 2 en 2 (filtros cuadrados siempre)\n",
        "\n",
        "Pues bien, lo que el grid search haría es los iguiente:"
      ]
    },
    {
      "metadata": {
        "id": "vA05n2y9DGgj",
        "colab_type": "code",
        "colab": {
          "autoexec": {
            "startup": false,
            "wait_interval": 0
          }
        }
      },
      "cell_type": "code",
      "source": [
        ""
      ],
      "execution_count": 0,
      "outputs": []
    },
    {
      "metadata": {
        "id": "ty5EDQgLJkkf",
        "colab_type": "text"
      },
      "cell_type": "markdown",
      "source": [
        "Y con esto sabríamos cuál es la mejor configuración de nuestra red. Mucho mejor que andar cambiando parámetros a mano verdad?\n",
        "\n",
        "Cuál es el problema de este método? Pues que tenemos 6 x 4 x 4 x 3 ejecuciones de nuestra red, lo que hacen un total de 288 ejecuciones, a un mínimo de 10 minutos por ejecución, son 48 horas, osea, 2 días!!!\n",
        "\n",
        "Si queréis comprobarlo no tenéis más que meter dentro de dummy_net la arquitectura de la red y ejecutarlo ;-)\n",
        "\n",
        "Vamos a hacer una prueba con una red muy sencillita para que veáis qué tal funciona:"
      ]
    },
    {
      "metadata": {
        "id": "CAsIhauG3Fl8",
        "colab_type": "code",
        "colab": {
          "autoexec": {
            "startup": false,
            "wait_interval": 0
          }
        }
      },
      "cell_type": "code",
      "source": [
        ""
      ],
      "execution_count": 0,
      "outputs": []
    },
    {
      "metadata": {
        "id": "WUZHM4_J2Zf5",
        "colab_type": "text"
      },
      "cell_type": "markdown",
      "source": [
        "Bueno, no está mal, verdad?\n",
        "\n",
        "Aunque estaría genial que hubiesen métodos más rápidos o usando algo de heurística, no?? En vez de fuerza bruta...\n",
        "\n",
        "Pues estáis de suerte! Existen varios métodos de este tipo:\n",
        "\n",
        "* Spearmint (Python)\n",
        "* BayesOpt (C++ with Python and Matlab/Octave interfaces)\n",
        "* hyperopt (Python)\n",
        "* SMAC (Java)\n",
        "* REMBO (Matlab)\n",
        "* MOE (C++/Python)\n",
        "\n",
        "+INFO: http://fastml.com/optimizing-hyperparams-with-hyperopt/\n",
        "\n",
        "Y hoy vamos a ver **hyperopt**!!"
      ]
    },
    {
      "metadata": {
        "id": "ywTCluaY8cLo",
        "colab_type": "text"
      },
      "cell_type": "markdown",
      "source": [
        "## 6.2 Hyper-opt\n",
        "\n",
        "Otra opción es utilizar hyperopt (Hyperopt: Distributed Asynchronous Hyper-parameter Optimization, https://github.com/hyperopt/hyperopt).\n",
        "\n",
        "Hyperopt es una librería escrita en Python que permite optimizar funciones de una forma rápida fijándose más en los valores que más probablemente van a dar una buena solución.\n",
        "\n",
        "Actualmente tiene dos algoritmos implementados para hacer esto:\n",
        "\n",
        "* Random Search\n",
        "* Tree of Parzen Estimators (TPE)\n",
        "\n",
        "Además, se pueden ejecutar en serie o en paralelo, haciendo uso de MongoDB.\n",
        "\n",
        "Vamos a ver un ejemplo de cómo utilizarlo:"
      ]
    },
    {
      "metadata": {
        "id": "edAvMjPX9Qxi",
        "colab_type": "code",
        "colab": {
          "autoexec": {
            "startup": false,
            "wait_interval": 0
          }
        }
      },
      "cell_type": "code",
      "source": [
        ""
      ],
      "execution_count": 0,
      "outputs": []
    },
    {
      "metadata": {
        "id": "JpK451ZLCF18",
        "colab_type": "text"
      },
      "cell_type": "markdown",
      "source": [
        "Qué os parece? mola eh? Así, podéis dejar vuestra configuración e iros a hacer algo más útil que andar variando parámetros hasta que encontréis la configuración adecuada.\n",
        "\n",
        "**Mejor que lo hagan por nosotros y que nos la encontremos automáticamente seleccionada!**\n",
        "\n",
        "Pero no tenemos por qué quedarnos aquí, podemos también variar el número de capas o si queremos conexiones residuales, por ejemplo! Sí, esto significa que podemos variar la **arquitectura** también!!\n",
        "\n",
        "Aquí tenéis un ejemplo muy completo: https://github.com/Vooban/Hyperopt-Keras-CNN-CIFAR-100\n",
        "\n",
        "Y aquí otro que quizá os parezca interesante: \n",
        "\n",
        "<img src=\"http://cdn.lizamayliza.com/storage/cache/images/003/636/Daffy-Duck-Money-eyes-feature,xlarge.1480369578.jpg\" border=\"0\" height=\"200\">\n",
        "\n",
        "https://medium.com/machine-learning-world/neural-networks-for-algorithmic-trading-hyperparameters-optimization-cb2b4a29b8ee"
      ]
    },
    {
      "metadata": {
        "id": "XJBIyfkE8cl0",
        "colab_type": "text"
      },
      "cell_type": "markdown",
      "source": [
        "## 6.3 Algoritmos genéticos\n",
        "\n",
        "Quizás estéis pensando en que tras haber visto esto no necesitáis saber nada más, ya habéis encontrado algo que es la repera! Pues atentos porque lo que viene, pese a ser algo muy sencillo, es potentísimo, y os va encantar. Sí, estoy hablando de **los algoritmos genéticos**.\n",
        "\n",
        "En esencia, los algoritmos genéticos son un método de búsqueda meta-heurística inspirados en la evolución natural. Pertenecen a los algoritmos evolutivos, concretamente a los Algoritmos de búsqueda aleatoria guiada (Guided Random Search algorithms (Evolutionary Alg.)).\n",
        "\n",
        "Esto que os puede parecer chino, es muy sencillo. Vamos a entenderlos con un ejemplo:\n",
        "\n",
        "<img src=\"https://image.ibb.co/cJcQYJ/ga_problem.png\" alt=\"ga_problem\" border=\"0\">\n",
        "\n",
        "Imaginad que tenemos un puzzle, y nos queda solo una pieza por encajar. Lo que pasa es que este puzzle es muy especial, porque nos permite fabricarnos nuestras propias piezas. Para ello, disponemos de varios mecanismos:\n",
        "\n",
        "* **combinar** partes de piezas (**crossover** o recombinación)\n",
        "* **modificar** determinadas partes de esas piezas (**mutación**)\n",
        "* **escoger** las mejores piezas de todas las que hemos hecho, para a partir de ellas, construir nuevas que sean mejores (**selección**)\n",
        "\n",
        "Entonces imaginaos que decidimos cortar 10 trozos de carton, que son nuestras 10 piezas iniciales con las que vamos a probar a ver si alguna encaja perfectamnte. Las probamos todas, y de esas 10, 5 encajan más o menos. Así que seleccionamos esas 5 y fabricamos nuevas a partir de ellas mediante los mecanismos explicados arriba:\n",
        "\n",
        "* de las 5 seleccionadas, sacamos 5 más combinando partes de dos de esas 5 originales escogiéndolas aleatoriamente\n",
        "* de las 5 originales, y las nuevas 5 que nos hemos creado, sacamos 5 más modificando ligeramente una de las puntas de la pieza\n",
        "\n",
        "Ahora resulta que tenemos 15 piezas, y nosotros queremos tener siempre 10, porque si no a la 5 vez que hiciéramos esto tendríamos una barbaridad de piezas!! Así que:\n",
        "\n",
        "* probamos nuestras 15 piezas y nos quedamos con la que mejor encaja, y luego 9 escogidas al azar\n",
        "\n",
        "Pues ya está, eso es lo que hace un algoritmo genético!! Ya sabéis cómo funcionan!! Sencillo, verdad? Pues no os hacéis una idea de lo potentes que son :-)\n",
        "\n",
        "Vamos a verlo un poco más concreto siguiendo con nuestro ejemplo:\n",
        "\n",
        "<img src=\"https://image.ibb.co/b7ySfy/geneticos_puzzle.png\" alt=\"geneticos_puzzle\" border=\"0\">\n",
        "\n",
        "Como podéis ver:\n",
        "\n",
        "* cada pieza de nuestro conjunto de piezas (población) es un **cromosoma**\n",
        "* cada parte de nuestra pieza es un **gen**, por tanto, nuestro cromosoma tiene 4 genes\n",
        "* los posibles valores o configuraciones que puede tener cada gen se llama **alelo**\n",
        "\n",
        "Esto es exactamente igual que en biología! No os dije que estaban inspirados en la evolución natural? :-)\n",
        "\n",
        "Vale, pues vamos a ir relacionando estas palabrejas con nuestro ejemplo:\n",
        "\n",
        "* necesitamos encontrar la pieza correcta para nuestro hueco del puzzle\n",
        "* tenemos un conjunto inicial de piezas (**población**) que pueden encajar bien o no, no lo sabemos\n",
        "* comprobamos cómo de bien encajan estas piezas (usando la **función de fitness**)\n",
        "* si ninguna de las piezas encaja como nos gustaría, modificamos las piezas (con los operadores: **crossover** y **mutación**)\n",
        "* comprobamos como de bien encajan las piezas recien creadas (**función de fitness**)\n",
        "* seleccionamos las piezas que queremos aguantar para la próxima iteración (**selección**)\n",
        "\n",
        "* y volvemos a empezar! así, hasta que enocntremos una pieza que encaje con la precisión que nosotros queremos\n",
        "\n",
        "Venga, vamos a ponernos un poco más serios. Veamos el pseudo-algoritmo:\n",
        "\n",
        "**START**\n",
        "\n",
        "Generate the initial population\n",
        "\n",
        "Compute fitness\n",
        "\n",
        "**REPEAT**\n",
        "    \n",
        "    Selection\n",
        "    \n",
        "    Crossover\n",
        "    \n",
        "    Mutation\n",
        "\n",
        "    Compute fitness\n",
        "\n",
        "**UNTIL** population has converged\n",
        "\n",
        "**STOP**\n",
        "\n",
        "Se entiende, no? Es exactamente lo mismo que los pasos que acabamos de hablar con el puzzle!!\n",
        "\n",
        "<img src=\"https://image.ibb.co/kQu7Ed/ga_workflow.png\" alt=\"ga_workflow\" border=\"0\" width=\"600\">\n",
        "\n",
        "Vale, y ahora llega lo interesante, cómo funcionan realmente?\n",
        "\n",
        "Tenemos que entender varios conceptos:\n",
        "\n",
        "* cómo se inicializa nuestra población\n",
        "* cómo funciona el crossover\n",
        "* cómo funciona la mutación\n",
        "* cómo funciona la seleccion\n",
        "* cómo podemos definir nuestra función de fitness\n",
        "\n",
        "Preparados? Vamos allá!"
      ]
    },
    {
      "metadata": {
        "id": "TbgSCrpOcbqt",
        "colab_type": "text"
      },
      "cell_type": "markdown",
      "source": [
        "Lo primero es entender que cuando tenemos un problema en el mundo real y queremos solucionarlo en un ordenador, necesitamos **codificarlo** para que el ordenador lo entienda.\n",
        "\n",
        "Así, por ejemplo:\n",
        "\n",
        "* En el mundo real, el cromosoma es la pieza del puzzle. En el ordenador, el cromosoma es un vector con 4 valores (uno para indicar el tamaño de cada punta, donde positivo significa punta, negativo significa hueco hacia dentro de la pieza)\n",
        "\n",
        "Esto es a lo que se llama la codificación.\n",
        "\n",
        "Una vez sabido esto, vamos a ver cómo funcionan los operadores. Antes de nada, debéis saber que xisten muchos tipos de crossover, mutación y selección, pero aquí vamos a ver solo los más sencillos por temas de tiempo. \n",
        "\n",
        "Si estáis interesados en conocerlos más profundamente, en internet hay muchísimo material disponible. Podéis empezar aquí: https://www.tutorialspoint.com/genetic_algorithms/index.htm\n",
        "\n",
        "Vale, al turrón!\n",
        "\n",
        "<img src=\"https://image.ibb.co/hEwVHd/ga_operators.png\" alt=\"ga_operators\" border=\"0\">\n",
        "\n",
        "**El crossover de un único punto (single-point crossover)**\n",
        "\n",
        "Nuestro cromosoma es la pieza de puzzle, que tiene los 4 genes que veis en la imagen. Pues el crossover simple sencillamente escoge un punto aleatoriamente de los 4 genes, y combina las partes en nuevos cromosomas, como veis en la imagen.\n",
        "\n",
        "Es importante que entendáis que el crossover **produce nuevos cromosomas**, puesto que tenemos los originales y los **recombinados**.\n",
        "\n",
        "**La mutación uniforme**\n",
        "\n",
        "La mutación uniforme consiste en que para cada cromosoma, lanzamos una moneda al aire. Si sale cara, modificamos un gen escogido aleatoriamente. ¿Qué valor le asignamos? Uno aleatorio dentro del rango que permite dicho gen.\n",
        "\n",
        "**La selección**\n",
        "\n",
        "Para la selección lo que se suele hacer es usar las fitness de los cromosomas (también llamados posibles **soluciones**). En este caso, vamos a ver la Stochastic Universal Sampling, que consiste en que construímos una gráfica de tipo tarta donde cada cromosoma ocupa un espacio que corresponde con su fitness. Después, establecemos N puntos fijos alrededor de la \"tarta\", donde N son el número de cromomsomas que queremos **seleccionar**. Después, se \"gira la tarta\", como si fuese la ruleta de la suerte, y los cromosomas a los que apuntan los puntos fijos son los seleccionados y pasan a la siguiente iteración.\n",
        "\n",
        "Si os fijáis, **los cromosomas no están ordenados de mayor a menor fitness**!! \n",
        "\n",
        "Esto es importante, puesto que si no, las probabilidades de seleccionar un cromosoma con una fitness alta y otro con una fitness baja serían más altas que de seleccionar dos con la fitness alta, ya que al estar los puntos de selección uno enfrente del otro, sería muy complicado seleccionar dos cromosomas con fitness parecidas.\n",
        "\n",
        "Este operador tiene varias formas de funcionar. Siguiendo con nuestro ejemplo de población de 10 cromosomas, las formas son:\n",
        "\n",
        "* Seleccionamos $N=10$ cromosomas, es decir, sustituimos la anterior población por una completamente nueva\n",
        "* Seleccionamos $N=n$ cromosomas, donde n<10. Es decir, sustituímos solo una parte de los crosomomas antiguos. El resto siguen jugando ;-D\n",
        "\n",
        "Vale, pues si seleccionamos los 10 está claro, pero si seleccionamos $n$, cómo elegimos cuales quitamos?\n",
        "\n",
        "Pues las dos formas más comunes son:\n",
        "\n",
        "* Quitamos los cromosomas más antiguos\n",
        "* Quitamos los cromosomas con peor fitness\n",
        "\n",
        "Ya por último, hay veces que seleccionamos al mejor cromosoma (o a los $k$ mejors) para que pase si o si a la siguiente iteración, es decir, hay *elitismo*. Hay que ir con cuidado con esto, puesto que aunque a priori parezca que el elitismo es lo mejor y que solo deberíamos quedarnos con los mejores, si lo hiciésemos nos estaríamos cargando una de las mayores virtudes de los genéticos: **que son capaces de escapar a mínimos locales!!!**\n",
        "\n",
        "Fijaos, aquí podéis ver en plena acción a un genético intentando decidir cual es la mejor configuración para un vehículo de 2 ruedas: http://rednuht.org/genetic_cars_2/\n",
        "\n",
        "Curioso, eh?\n",
        "\n",
        "Vale, pues ahora qué tal si implementamos un par de ejemplos nosotros?\n",
        "\n",
        "\n",
        "\n"
      ]
    },
    {
      "metadata": {
        "id": "Ndtpne5KR9Oy",
        "colab_type": "code",
        "colab": {
          "autoexec": {
            "startup": false,
            "wait_interval": 0
          }
        }
      },
      "cell_type": "code",
      "source": [
        ""
      ],
      "execution_count": 0,
      "outputs": []
    },
    {
      "metadata": {
        "id": "Ln-gjURQSBxy",
        "colab_type": "code",
        "colab": {
          "autoexec": {
            "startup": false,
            "wait_interval": 0
          }
        }
      },
      "cell_type": "code",
      "source": [
        ""
      ],
      "execution_count": 0,
      "outputs": []
    },
    {
      "metadata": {
        "id": "Hs1CFgGip95-",
        "colab_type": "text"
      },
      "cell_type": "markdown",
      "source": [
        "Y ahora, vamos a verlo aplicado a una red neuronal. Para ello, vamos a hacer uso de una implementación disponible en Github: https://github.com/jliphard/DeepEvolve"
      ]
    },
    {
      "metadata": {
        "id": "bLw7kZ3KHpMU",
        "colab_type": "code",
        "colab": {
          "autoexec": {
            "startup": false,
            "wait_interval": 0
          }
        }
      },
      "cell_type": "code",
      "source": [
        ""
      ],
      "execution_count": 0,
      "outputs": []
    },
    {
      "metadata": {
        "id": "OeFaymLsHqZZ",
        "colab_type": "text"
      },
      "cell_type": "markdown",
      "source": [
        "Y os recomiendo que le echéis un ojo a estos dos enlaces en los que evolucionan una red neuronal con un GA. Aquí no nos da tiempo, pero son muy interesantes:\n",
        "\n",
        "### Ejempo GA para evolucionar NN: \n",
        "* https://blog.coast.ai/lets-evolve-a-neural-network-with-a-genetic-algorithm-code-included-8809bece164\n",
        "* https://github.com/harvitronix/neural-network-genetic-algorithm"
      ]
    }
  ]
}