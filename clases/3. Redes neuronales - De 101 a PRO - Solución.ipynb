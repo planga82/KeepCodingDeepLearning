{
  "nbformat": 4,
  "nbformat_minor": 0,
  "metadata": {
    "colab": {
      "name": "(S) 3. Redes neuronales - De 101 a PRO.ipynb",
      "version": "0.3.2",
      "views": {},
      "default_view": {},
      "provenance": [],
      "collapsed_sections": []
    },
    "kernelspec": {
      "name": "python3",
      "display_name": "Python 3"
    },
    "accelerator": "GPU"
  },
  "cells": [
    {
      "metadata": {
        "id": "8ygX408AWx_J",
        "colab_type": "text"
      },
      "cell_type": "markdown",
      "source": [
        "# 3. Redes neuronales - De 101 a PRO\n",
        "\n",
        "¡Bienvenidos a la tercera sesión! Tras la paliza de ayer con el backpropagation y cómo funcionan realmente las redes neuronales, hoy vamos a ver lo siguiente:\n",
        "\n",
        "**Redes neuronales 2**\n",
        "* Teoría de optimización. Gradient Descent (GD, SGD, Mini-batch GD).\n",
        "* Learning rate y batch size.\n",
        "* Funciones de pérdidas y funciones de activación.\n",
        "* Inicialización de los pesos"
      ]
    },
    {
      "metadata": {
        "id": "mY275LXJXeTK",
        "colab_type": "text"
      },
      "cell_type": "markdown",
      "source": [
        "## 3.1 Teoría de optimización: Gradient Descent, Stochastic Gradient Descent, Mini-batch Gradient Descent\n",
        "\n",
        "Ayer estuvimos viendo cómo funciona el gradient descent, os acordáis, ¿verdad? Cómo olvidarlo...eh? Bueno, tranquilos porque la clase de hoy es mucho mas *light*: vamos a ver diferentes formas de utilizar el gradient descent para ganar velocidad.\n",
        "\n",
        "Necesito que recordéis cómo funciona el descenso del gradiente: calculando el calculando el error de todas las muestras de nuestro training y luego actualizando los pesos en la dirección que indica el gradiente respecto a cada uno de ellos. Es decir, necesitamos, **para cada época, calcular todas las predicciones (etapa forward), luego los errores, y luego propagar los errores hacia atrás para ver cuanto influye cada peso en ese error y actualizarlo en consecuencia.**\n",
        "\n",
        "Imagináos que:\n",
        "* tenemos un dataset de 100.000 muestras\n",
        "* que cada etapa forward tarda 2ms\n",
        "* cada cálculo del error 1ms\n",
        "* cada etapa de backpropagation tarda 3ms\n",
        "\n",
        "Si hacemos el cálculo, tenemos que:\n",
        "\n",
        "**Tiempo por época** $= (2ms+1ms+3ms)·100.000$ muestras $= 600.000ms = 600$ segundos $=$ **10 minutos**\n",
        "\n",
        "De normal, una red puede requerir cientos, si no miles de épocas, para conseguir una convergencia adecuada. Pongamos que necesitamos 100 épocas, que es un número bajo. ¿Cuánto tardaría en total en entrenarse la red?\n",
        "\n",
        "**Tiempo total de entrenamiento** $=10$ minutos $· 100$ épocas $= 1.000$ minutos $=$ **16'6 horas !!!**\n",
        "\n",
        "No parece muy cómodo tener que esperar más de 16 horas para ver los resultados de una red, verdad? Y hemos sido buenos suponiendo que teníamos solo 100.000 muestras. ImageNet, por ejemplo, consta de 1.2 millones de imágenes, lo que nos costaría 2h por época, o lo que es lo mismo, 8.3 días, **más de una semana para ver el comportamiento de una red.** \n",
        "\n",
        "Veis la necesidad, ¿no? ¿Se os ocurre alguna forma de disminuir este tiempo?\n",
        "\n",
        "Una forma de reducir drásticamente el tiempo necesario sería utilizar una sola muestra escogida aleatoriamente cada vez que quisieramos actualizar los pesos. De esta forma, para actualizar los pesos simplemente tendríamos que calcular las predicciones, errores y backpropagation de una muestra. Esto reduciría nuestro tiempo total a:\n",
        "\n",
        "**Tiempo total de entrenamiento** $=(2ms+1ms+3ms)·1$ muestra $·100$ épocas $= 600ms = $ **0,6s**\n",
        "\n",
        "### Eureka! Qué maravilla! Acabamos de arreglar el mundo!\n",
        "\n",
        "A este método se le conoce como **Stochastic Gradient Descent**, y estoy seguro de que todos vosotros os habéis dado cuenta de que tiene una **desventaja MUY IMPORTANTE**. ¿Quién me la dice?\n",
        "\n",
        "Os voy a dar una pista:\n",
        "\n",
        "### ¿Cuál creéis que es el camino seguido por el Gradient Descent, y cual el seguido por el Stochastic Gradient Descent?\n",
        "<img src=\"https://image.ibb.co/hiK2BT/mountain_gd_sgd_mbsgd_hidden.png\" alt=\"mountain_gd_sgd_mbsgd_hidden\" border=\"0\">\n",
        "<!--\n",
        "<img src=\"https://image.ibb.co/n2RFWT/mountain_gd_sgd_mbsgd.png\" alt=\"mountain_gd_sgd_mbsgd\" border=\"0\">\n",
        "<!-- <img src=\"https://image.ibb.co/jZHNBT/contours_gd_sgd_mbsgd.png\" alt=\"contours_gd_sgd_mbsgd\" border=\"0\"> -->\n",
        "\n",
        "El camino rojo es el que sigue el gradient descent, que al calcular el gradiente usando todas las muestras del dataset consigue unas actualizaciones coherentes siempre en la dirección que permite minimizar el error.\n",
        "\n",
        "Y si! El camino magenta es el seguido por el SGD. ¿Qué es lo que está pasando? Que cada actualización de los pesos se hace para minimizar el error teniendo en cuenta solo una muestra, así que lo que minimizamos es el error para esa muestra en particular. Por eso tiene un comportamiento más caótico y le cuesta más converger, aunque, a cambio, se ejecuta mucho más rápido, por lo que en el tiempo que el GD necesita para ejecutar una época, el SGD puede ejecutar miles.\n",
        "\n",
        "**Como siempre, la virtud se encuentra en el término medio. Véis la linea verde, verdad? Esa es la buena! ¿Cómo llegamos a ella?**\n",
        "\n",
        "\n",
        "\n",
        "\n",
        "\n",
        "\n",
        "\n"
      ]
    },
    {
      "metadata": {
        "id": "8tg1hAR6BRgz",
        "colab_type": "text"
      },
      "cell_type": "markdown",
      "source": [
        "Bueno, vamos a pensar qué tenemos hasta ahora. Tenemos:\n",
        "\n",
        "* Un método que calcula las predicciones y errores de **todos** los elementos de nuestro training set: **(Vanilla) Gradient Descent**\n",
        "* Un método que calcula las predicciones y errores de **1 elemento** escogido aleatoriamente de nuestro training set: **Stochastic Gradient Descent**\n",
        "\n",
        "¿Qué os parecería que en vez de **1 solo elemento**, escogiésemos **N elementos**? De esta forma:\n",
        "\n",
        "* Aumentamos la **estabilidad** del algoritmo, ya que no solo nos fijamos en un solo elemento, sino en $k$ (es decir, disminuímos los cambios de dirección tan abruptos y caóticos que tiene la línea magenta)\n",
        "* Disminuimos el **tiempo de ejecución** con respecto al gradient descent tradicional, pues pasamos de las $N$ muestras que tiene nuestro training set, a $k$, donde $k << N$\n",
        "\n",
        "Parece una alternativa interesante, no creéis? Este método se conoce como **Mini-batch Stochastic Gradient Descent**, y es realmente el que se utiliza en la práctica.\n",
        "\n",
        "Normalmente, $k$ se elige para que sea una potencia de 2, ya que eso permite aprovechar algunas optimizaciones que tienen las GPUs implementadas para estos casos. Un $k$ típico podría ser $k=256$, pero al final esto lo limita la memoria de la GPU.\n",
        "\n",
        "Cuanto más bajo sea $k$, más se parecerá al SGD puro, y más épocas le costará convergir, aunque también es verdad que las calculará más rápido.\n",
        "\n",
        "Y a la inversa, cuanto más alto sea $k$, más se parecerá al GD puro, y más le costará calcular cada época, pero necesitará menos para convergir.\n",
        "\n",
        "### Pues con esto ya lo sabéis todo sobre el Gradient Descent y los diferentes tipos de implementaciones!\n",
        "\n",
        "Vamos a ver ahora qué es el learning rate y el batch size, y cómo influyen.\n"
      ]
    },
    {
      "metadata": {
        "id": "g4xcQlXrEZIR",
        "colab_type": "text"
      },
      "cell_type": "markdown",
      "source": [
        "## 3.2 Learning rate y batch size\n",
        "\n",
        "El learning rate y el batch size son dos parámetros directamente relacionados con el algoritmo del gradient descent.\n",
        "\n",
        "### 3.2.1 Learning rate\n",
        "\n",
        "Como ya sabéis de la anterior sesión, la forma de actualizar los pesos es mediante estas fórmulas:\n",
        "\n",
        "<center><img src=\"https://image.ibb.co/jMmHRT/net_weights_update.png\" alt=\"net_weights_update\" border=\"0\" height=\"250\"></center>\n",
        "\n",
        "¿Os acordáis, verdad? Lo que multiplica al $\\frac{\\partial E_{total}}{\\partial w_n}$, llamado $\\eta$, es el **learning rate**, que es lo que indica **la importancia** que le damos al error para actualizar cada peso, es decir, la **rapidez** o cómo de abruptos son los cambios en los pesos.\n",
        "\n",
        "Así, un $\\eta$ muy alto, hará que los cambios en los pesos sean muy grandes de una iteración a otra, lo que tiene el problema de que podemos llegar a saltarnos nuestro mínimo.\n",
        "\n",
        "Fijaos, con esta imagen se ve estupendamente:\n",
        "\n",
        "<img src=\"https://image.ibb.co/ncnAY8/learning_rate_eta.png\" alt=\"learning_rate_eta\" border=\"0\" height=\"150\">\n",
        "\n",
        "Otra posibilidad es establecer un $\\eta$ muy bajo, lo que haría que nuestra red necesitara muchísimas épocas para llegar a un mínimo aceptable. Además, correríamos el riesgo de quedarnos atrapados en un mínimo peor del mejor que podríamos conseguir con un $\\eta$ más alto.\n",
        "\n",
        "<img src=\"https://image.ibb.co/frt3Lo/learning_rate_eta_low.gif\" alt=\"learning_rate_eta_low\" border=\"0\" height=\"200\">\n",
        "\n",
        "Vamos a hacer un pequeño inciso para hablar sobre los mínimos: lo que conseguimos con una **red neuronal**, normalmente, no es alcanzar el mínimo global de nuestra función, sino que **alcanzamos un mínimo local lo suficientemente bueno como para realizar correctamente la tarea que estamos desarrollando**.\n",
        "\n",
        "Tras haber aclarado esto, queda patente lo importante que es conseguir un learning rate adecuado, verdad? Y cómo lo hacemos? Primero, qué es lo que buscamos? Fijaos en esta imagen:\n",
        "\n",
        "<img src=\"https://image.ibb.co/heYQY8/learning_rate_eta_graph.png\" alt=\"learning_rate_eta_graph\" border=\"0\" height=\"250\">\n",
        "\n",
        "Lo que queremos es un *learning rate* óptimo, que nos permita ir reduciendo el error conforme van pasando las épocas, hasta llegar a nuestro mínimo buscado. En la gráfica, este *learning rate* sería la línea roja. ¿Y cómo conseguimos que nuestro learning rate sea el óptimo?\n",
        "\n",
        "Pues una opción muy utilizada es aplicar un **decrecimiento** o *decay* a nuestro learning rate **conforme más va disminuyendo la función de pérdidas** (lo que indica que estamos llegando al mínimo buscado).\n",
        "\n",
        "<img src=\"https://image.ibb.co/mdBUt8/learning_rate_eta_decreasing.png\" alt=\"learning_rate_eta_decreasing\" border=\"0\" height=\"250\">\n",
        "\n",
        "De esta forma, evitamos morirnos de viejos esperando a que converja por haber elegido un learning rate muy bajito, y evitamos saltarnos nuestro mínimo porque cuanto más cerca estamos de él más pequeños son los pasos que damos hacia él.\n",
        "\n",
        "Vamos a ver cómo se comportaría la última red que implementamos (la que trabajaba con el MNIST) con **diferentes learning rates**:"
      ]
    },
    {
      "metadata": {
        "id": "Fljl_4hQSw27",
        "colab_type": "code",
        "colab": {
          "autoexec": {
            "startup": false,
            "wait_interval": 0
          },
          "base_uri": "https://localhost:8080/",
          "height": 524
        },
        "outputId": "7e9fde80-4ff4-4cba-84a6-9f23dbb92436",
        "executionInfo": {
          "status": "ok",
          "timestamp": 1528903373915,
          "user_tz": -60,
          "elapsed": 14989,
          "user": {
            "displayName": "Felix Jose Fuentes Hurtado",
            "photoUrl": "https://lh3.googleusercontent.com/a/default-user=s128",
            "userId": "110042652407127079790"
          }
        }
      },
      "cell_type": "code",
      "source": [
        "# ejemplos learning rate\n",
        "\n",
        "# para ello, priemro hacemos los imports necesarios y después definimos una \n",
        "# función que creará y entrenará la red\n",
        "\n",
        "# imports necesarios\n",
        "import numpy as np\n",
        "import matplotlib.pyplot as plt\n",
        "import tensorflow as tf\n",
        "# importamos el dataset MNIST y cargamos los datos\n",
        "from tensorflow.examples.tutorials.mnist import input_data\n",
        "mnist = input_data.read_data_sets(\"/tmp/data/\", one_hot=True)"
      ],
      "execution_count": 1,
      "outputs": [
        {
          "output_type": "stream",
          "text": [
            "WARNING:tensorflow:From <ipython-input-1-fcf15f4fac86>:6: read_data_sets (from tensorflow.contrib.learn.python.learn.datasets.mnist) is deprecated and will be removed in a future version.\n",
            "Instructions for updating:\n",
            "Please use alternatives such as official/mnist/dataset.py from tensorflow/models.\n",
            "WARNING:tensorflow:From /usr/local/lib/python3.6/dist-packages/tensorflow/contrib/learn/python/learn/datasets/mnist.py:260: maybe_download (from tensorflow.contrib.learn.python.learn.datasets.base) is deprecated and will be removed in a future version.\n",
            "Instructions for updating:\n",
            "Please write your own downloading logic.\n",
            "WARNING:tensorflow:From /usr/local/lib/python3.6/dist-packages/tensorflow/contrib/learn/python/learn/datasets/base.py:252: _internal_retry.<locals>.wrap.<locals>.wrapped_fn (from tensorflow.contrib.learn.python.learn.datasets.base) is deprecated and will be removed in a future version.\n",
            "Instructions for updating:\n",
            "Please use urllib or similar directly.\n",
            "Successfully downloaded train-images-idx3-ubyte.gz 9912422 bytes.\n",
            "WARNING:tensorflow:From /usr/local/lib/python3.6/dist-packages/tensorflow/contrib/learn/python/learn/datasets/mnist.py:262: extract_images (from tensorflow.contrib.learn.python.learn.datasets.mnist) is deprecated and will be removed in a future version.\n",
            "Instructions for updating:\n",
            "Please use tf.data to implement this functionality.\n",
            "Extracting /tmp/data/train-images-idx3-ubyte.gz\n",
            "Successfully downloaded train-labels-idx1-ubyte.gz 28881 bytes.\n",
            "WARNING:tensorflow:From /usr/local/lib/python3.6/dist-packages/tensorflow/contrib/learn/python/learn/datasets/mnist.py:267: extract_labels (from tensorflow.contrib.learn.python.learn.datasets.mnist) is deprecated and will be removed in a future version.\n",
            "Instructions for updating:\n",
            "Please use tf.data to implement this functionality.\n",
            "Extracting /tmp/data/train-labels-idx1-ubyte.gz\n",
            "WARNING:tensorflow:From /usr/local/lib/python3.6/dist-packages/tensorflow/contrib/learn/python/learn/datasets/mnist.py:110: dense_to_one_hot (from tensorflow.contrib.learn.python.learn.datasets.mnist) is deprecated and will be removed in a future version.\n",
            "Instructions for updating:\n",
            "Please use tf.one_hot on tensors.\n",
            "Successfully downloaded t10k-images-idx3-ubyte.gz 1648877 bytes.\n",
            "Extracting /tmp/data/t10k-images-idx3-ubyte.gz\n",
            "Successfully downloaded t10k-labels-idx1-ubyte.gz 4542 bytes.\n",
            "Extracting /tmp/data/t10k-labels-idx1-ubyte.gz\n",
            "WARNING:tensorflow:From /usr/local/lib/python3.6/dist-packages/tensorflow/contrib/learn/python/learn/datasets/mnist.py:290: DataSet.__init__ (from tensorflow.contrib.learn.python.learn.datasets.mnist) is deprecated and will be removed in a future version.\n",
            "Instructions for updating:\n",
            "Please use alternatives such as official/mnist/dataset.py from tensorflow/models.\n"
          ],
          "name": "stdout"
        }
      ]
    },
    {
      "metadata": {
        "id": "yTUePZxVMxEc",
        "colab_type": "code",
        "colab": {
          "autoexec": {
            "startup": false,
            "wait_interval": 0
          }
        }
      },
      "cell_type": "code",
      "source": [
        "# definimos la función para entrenar nuestra red con los parámetros deseados\n",
        "def train_network(learning_rate, batch_size, n_epochs):\n",
        "  \n",
        "  # creamos los contenedores para nuestras entradas y salidas\n",
        "  x = tf.placeholder(tf.float32, [None, 784]) # imágenes del mnist: 28*28=784\n",
        "  y = tf.placeholder(tf.float32, [None, 10]) # número indicando la clase 0-9 => 10 clases\n",
        "\n",
        "  # y creamos las variables W y b para el entrenamiento\n",
        "  W = tf.Variable(tf.zeros([784, 10]))\n",
        "  b = tf.Variable(tf.zeros([10]))\n",
        "\n",
        "  # por último, construimos el modelo\n",
        "  pred = tf.nn.softmax(tf.matmul(x, W) + b)\n",
        "\n",
        "  # ahora, definimos nuestra función de pérdidas: esta vez, la cros-entropía\n",
        "  # no os preocupéis, la veremos en detalle en la próxima sesión\n",
        "  # a veces la llaman loss, a veces cost => es lo mismo\n",
        "  cost = tf.reduce_mean(-tf.reduce_sum(y*tf.log(pred), reduction_indices=1))\n",
        "\n",
        "  # calculamos los gradientes (gradient descent)\n",
        "  grad_W, grad_b = tf.gradients(xs=[W, b], ys=cost)\n",
        "\n",
        "  # definimos las operaciones para actualizar los pesos con los gradientes calculados\n",
        "  # y el learning rate\n",
        "  new_W = W.assign(W - learning_rate * grad_W)\n",
        "  new_b = b.assign(b - learning_rate * grad_b)\n",
        "\n",
        "  # inicializamos las variables\n",
        "  init = tf.global_variables_initializer()\n",
        "  \n",
        "  # para almacenar el histórico de costes\n",
        "  costs = []\n",
        "  # empezamos la sesión\n",
        "  with tf.Session() as sess:\n",
        "      sess.run(init)\n",
        "\n",
        "      # entrenamiento de nuestra red\n",
        "      for epoch in range(n_epochs):\n",
        "          avg_cost = 0.\n",
        "          total_batch = int(mnist.train.num_examples/batch_size)\n",
        "\n",
        "          # y si en vez de actualizar los pesos para cada imagen, lo hacemos\n",
        "          # de X en X imágenes?\n",
        "          for i in range(total_batch):\n",
        "              batch_xs, batch_ys = mnist.train.next_batch(batch_size)\n",
        "\n",
        "              # ejecutamos la optimización\n",
        "              _, _, c = sess.run([new_W, new_b ,cost], feed_dict={x: batch_xs,\n",
        "                                                         y: batch_ys})\n",
        "\n",
        "              # calculamos el coste teniendo en cuenta los batches que hay\n",
        "              avg_cost += c / total_batch\n",
        "\n",
        "          # guardamos nuestro coste en el histórico\n",
        "          costs.append(avg_cost)\n",
        "          \n",
        "          # Imprimimos las iteraciones\n",
        "          print(\"[{}] cost: {}\".format(epoch, avg_cost))\n",
        "\n",
        "      print(\"Entrenamiento finalizado!!\")\n",
        "\n",
        "      # comprobamos lo que ha aprendido nuestra red\n",
        "      correct_prediction = tf.equal(tf.argmax(pred, 1), tf.argmax(y, 1))\n",
        "\n",
        "      # calculamos el accuracy (precisión)\n",
        "      accuracy = tf.reduce_mean(tf.cast(correct_prediction, tf.float32))\n",
        "      print(\"Accuracy:\", accuracy.eval({x: mnist.test.images, y: mnist.test.labels}))\n",
        "      \n",
        "  # veamos nuestra función de pérdidas con respecto a las épocas ejecutadas\n",
        "  plt.plot(np.arange(0, n_epochs), costs)\n",
        "  plt.title(\"Training Loss\")\n",
        "  plt.xlabel(\"Epoch #\")\n",
        "  plt.ylabel(\"Loss\")"
      ],
      "execution_count": 0,
      "outputs": []
    },
    {
      "metadata": {
        "id": "9jw55ghdTl5p",
        "colab_type": "text"
      },
      "cell_type": "markdown",
      "source": [
        "Los valores típicos de learning rate suelen ser: \n",
        "\n",
        "* 0.1\n",
        "* 0.01\n",
        "* 0.001\n",
        "\n",
        "A partir de ahí, nos toca a nosotros *tunear* el learning rate según lo que veamos que ocurre."
      ]
    },
    {
      "metadata": {
        "id": "iZIML54DSR5C",
        "colab_type": "code",
        "colab": {
          "autoexec": {
            "startup": false,
            "wait_interval": 0
          },
          "base_uri": "https://localhost:8080/",
          "height": 584
        },
        "outputId": "324ac607-8882-43c5-d98e-9c1069f5fb99",
        "executionInfo": {
          "status": "ok",
          "timestamp": 1528903481972,
          "user_tz": -60,
          "elapsed": 11157,
          "user": {
            "displayName": "Felix Jose Fuentes Hurtado",
            "photoUrl": "https://lh3.googleusercontent.com/a/default-user=s128",
            "userId": "110042652407127079790"
          }
        }
      },
      "cell_type": "code",
      "source": [
        "# vamos a probar con un learning rate ENORME\n",
        "learning_rate = 2\n",
        "n_epochs = 10\n",
        "batch_size = 128\n",
        "train_network(learning_rate, batch_size, n_epochs)"
      ],
      "execution_count": 5,
      "outputs": [
        {
          "output_type": "stream",
          "text": [
            "[0] cost: 0.7001884950624481\n",
            "[1] cost: 0.41731223675893464\n",
            "[2] cost: 0.4011466008522016\n",
            "[3] cost: 0.4017784446130542\n",
            "[4] cost: 0.38278192689855106\n",
            "[5] cost: 0.3622867337716761\n",
            "[6] cost: 0.35242970669880896\n",
            "[7] cost: 0.3580573672354918\n",
            "[8] cost: 0.35863831867670126\n",
            "[9] cost: 0.3541756692778814\n",
            "Entrenamiento finalizado!!\n",
            "Accuracy: 0.8999\n"
          ],
          "name": "stdout"
        },
        {
          "output_type": "display_data",
          "data": {
            "image/png": "[encoded data removed]",
            "text/plain": [
              "<matplotlib.figure.Figure at 0x7ff4092a6ba8>"
            ]
          },
          "metadata": {
            "tags": []
          }
        }
      ]
    },
    {
      "metadata": {
        "id": "rBUt9cbKUJ8r",
        "colab_type": "text"
      },
      "cell_type": "markdown",
      "source": [
        "En este caso, incluso escogiendo un learning rate que debería hacerlo explotar todo, la red consigue converger. Esto se debe a que es un problema muy sencillo, pero no pasaría igual si estuvieramos trabajando con otro problema más real, como comprobaréis en la próxima sesión.\n",
        "\n",
        "De todas formas, veamos qué ocurre cuando disminuímos el learning rate"
      ]
    },
    {
      "metadata": {
        "id": "mBvWZAZuUIeX",
        "colab_type": "code",
        "colab": {
          "autoexec": {
            "startup": false,
            "wait_interval": 0
          },
          "base_uri": "https://localhost:8080/",
          "height": 584
        },
        "outputId": "0e64a71b-b4cf-4c05-d75d-10cd4d30e29c",
        "executionInfo": {
          "status": "ok",
          "timestamp": 1528903498678,
          "user_tz": -60,
          "elapsed": 11039,
          "user": {
            "displayName": "Felix Jose Fuentes Hurtado",
            "photoUrl": "https://lh3.googleusercontent.com/a/default-user=s128",
            "userId": "110042652407127079790"
          }
        }
      },
      "cell_type": "code",
      "source": [
        "# vamos a probar con 0.1\n",
        "learning_rate = 0.1\n",
        "n_epochs = 10\n",
        "batch_size = 128\n",
        "train_network(learning_rate, batch_size, n_epochs)"
      ],
      "execution_count": 6,
      "outputs": [
        {
          "output_type": "stream",
          "text": [
            "[0] cost: 0.5905804659103177\n",
            "[1] cost: 0.38221788691196124\n",
            "[2] cost: 0.3481875748345345\n",
            "[3] cost: 0.3330777956125065\n",
            "[4] cost: 0.31989943519199926\n",
            "[5] cost: 0.3117784773344763\n",
            "[6] cost: 0.3056597060465311\n",
            "[7] cost: 0.3015281519481352\n",
            "[8] cost: 0.2961117709120671\n",
            "[9] cost: 0.29589035124072954\n",
            "Entrenamiento finalizado!!\n",
            "Accuracy: 0.9223\n"
          ],
          "name": "stdout"
        },
        {
          "output_type": "display_data",
          "data": {
            "image/png": "[encoded data removed]",
            "text/plain": [
              "<matplotlib.figure.Figure at 0x7ff4091493c8>"
            ]
          },
          "metadata": {
            "tags": []
          }
        }
      ]
    },
    {
      "metadata": {
        "id": "cpvEdeDxVZ9f",
        "colab_type": "code",
        "colab": {
          "autoexec": {
            "startup": false,
            "wait_interval": 0
          },
          "base_uri": "https://localhost:8080/",
          "height": 584
        },
        "outputId": "84c8dfe7-eb87-400f-db0a-640707cf0acd",
        "executionInfo": {
          "status": "ok",
          "timestamp": 1528904412877,
          "user_tz": -60,
          "elapsed": 10700,
          "user": {
            "displayName": "Felix Jose Fuentes Hurtado",
            "photoUrl": "https://lh3.googleusercontent.com/a/default-user=s128",
            "userId": "110042652407127079790"
          }
        }
      },
      "cell_type": "code",
      "source": [
        "# y ahora con uno muy pequeño\n",
        "learning_rate = 0.00001\n",
        "n_epochs = 10\n",
        "batch_size = 128\n",
        "train_network(learning_rate, batch_size, n_epochs)"
      ],
      "execution_count": 7,
      "outputs": [
        {
          "output_type": "stream",
          "text": [
            "[0] cost: 2.300268261026948\n",
            "[1] cost: 2.295641529532302\n",
            "[2] cost: 2.291029147612742\n",
            "[3] cost: 2.286465375295608\n",
            "[4] cost: 2.281882384996035\n",
            "[5] cost: 2.277334632295549\n",
            "[6] cost: 2.2728066494414847\n",
            "[7] cost: 2.2683181740465144\n",
            "[8] cost: 2.2637952852360335\n",
            "[9] cost: 2.2593002380468894\n",
            "Entrenamiento finalizado!!\n",
            "Accuracy: 0.6858\n"
          ],
          "name": "stdout"
        },
        {
          "output_type": "display_data",
          "data": {
            "image/png": "[encoded data removed]",
            "text/plain": [
              "<matplotlib.figure.Figure at 0x7ff409044400>"
            ]
          },
          "metadata": {
            "tags": []
          }
        }
      ]
    },
    {
      "metadata": {
        "id": "WmzelwmxdnfH",
        "colab_type": "text"
      },
      "cell_type": "markdown",
      "source": [
        "Como podéis comprobar, en este caso las pérdidas van disminuyendo paulatinamente, pero tan despacio, que podría llevarnos horas conseguir la solución que hemos alcanzado con un learning rate adecuado en solo 10 épocas.\n",
        "\n",
        "Vamos a ejecutar ahora esto mismo, pero con 10.000 épocas, a ver qué pasa. Para ello, tenemos un notebook auxiliar, porque si no nos quedaríamos aquí hasta mañana esperando. Vamos a probar si a Google Colab le gusta que tengamos dos notebooks a la vez ejecutándose, que ya sabemos que es un poco caprichoso. El notebook se llama \"3. Ejemplo 10.000 épocas NN\".\n"
      ]
    },
    {
      "metadata": {
        "id": "OUZYyV6rV6yh",
        "colab_type": "text"
      },
      "cell_type": "markdown",
      "source": [
        "Bueno, pues la mejor ejecución la hemos conseguido con learning rate = 0.1. Pero... ¿se puede mejorar?\n",
        "\n",
        "Como podréis imaginaros, el learning rate es un parámetro muy importante. Ya hemos visto antes que si ponemos un learning rate muy alto, podemos saltarnos el mínimo. En cambio, si ponemos un learning rate muy bajo, igual nos morimos de viejos antes de ver el resultado. ¿Cómo podemos arreglar esto? Pues una forma sería dar pasos más grandes al principio, y conforme nos aproximamos a la meta, empezar a disminuir su longitud para no pasárnosla, no os parece?\n",
        "\n",
        "Pues esto mismo se llama learning rate *decay*. ¿Qué os parece si lo implementamos en nuestro ejemplo?\n",
        "\n",
        "Vamos allá!"
      ]
    },
    {
      "metadata": {
        "id": "Je-NzPCRWdso",
        "colab_type": "code",
        "colab": {
          "autoexec": {
            "startup": false,
            "wait_interval": 0
          }
        }
      },
      "cell_type": "code",
      "source": [
        "# definimos la función para entrenar nuestra red con los parámetros deseados\n",
        "def train_network_decay(learning_rate, lr_decay, batch_size, n_epochs):\n",
        "  \n",
        "  # creamos los contenedores para nuestras entradas y salidas\n",
        "  x = tf.placeholder(tf.float32, [None, 784]) # imágenes del mnist: 28*28=784\n",
        "  y = tf.placeholder(tf.float32, [None, 10]) # número indicando la clase 0-9 => 10 clases\n",
        "  \n",
        "  # y creamos las variables W y b para el entrenamiento\n",
        "  W = tf.Variable(tf.zeros([784, 10]))\n",
        "  b = tf.Variable(tf.zeros([10]))\n",
        "\n",
        "  # por último, construimos el modelo\n",
        "  pred = tf.nn.softmax(tf.matmul(x, W) + b)\n",
        "\n",
        "  # ahora, definimos nuestra función de pérdidas: esta vez, la cros-entropía\n",
        "  # no os preocupéis, la veremos en detalle en la próxima sesión\n",
        "  # a veces la llaman loss, a veces cost => es lo mismo\n",
        "  cost = tf.reduce_mean(-tf.reduce_sum(y*tf.log(pred), reduction_indices=1))\n",
        "\n",
        "  # calculamos los gradientes (gradient descent)\n",
        "  grad_W, grad_b = tf.gradients(xs=[W, b], ys=cost)\n",
        "  \n",
        "  # definimos las operaciones para actualizar los pesos con los gradientes calculados\n",
        "  # e implementamos el learning rate decay\n",
        "  new_W = W.assign(W - learning_rate * (1-lr_decay) * grad_W)\n",
        "  new_b = b.assign(b - learning_rate * (1-lr_decay) * grad_b)\n",
        "\n",
        "  # inicializamos las variables\n",
        "  init = tf.global_variables_initializer()\n",
        "  \n",
        "  # para almacenar el histórico de costes\n",
        "  costs = []\n",
        "  # inicializamos current_lr\n",
        "  current_lr = learning_rate\n",
        "  # empezamos la sesión\n",
        "  with tf.Session() as sess:\n",
        "      sess.run(init)\n",
        "\n",
        "      # entrenamiento de nuestra red\n",
        "      for epoch in range(n_epochs):\n",
        "          avg_cost = 0.\n",
        "          total_batch = int(mnist.train.num_examples/batch_size)\n",
        "\n",
        "          # y si en vez de actualizar los pesos para cada imagen, lo hacemos\n",
        "          # de X en X imágenes?\n",
        "          for i in range(total_batch):\n",
        "              batch_xs, batch_ys = mnist.train.next_batch(batch_size)\n",
        "\n",
        "              # ejecutamos la optimización\n",
        "              Wc, bc, c = sess.run([new_W, new_b ,cost], feed_dict={x: batch_xs,\n",
        "                                                                    y: batch_ys})\n",
        "\n",
        "              # calculamos el coste teniendo en cuenta los batches que hay\n",
        "              avg_cost += c / total_batch\n",
        "              \n",
        "              # actualizamos el learning_rate igual que lo hace tensorflow\n",
        "              current_lr = current_lr * (1-lr_decay)\n",
        "\n",
        "          # guardamos nuestro coste en el histórico\n",
        "          costs.append(avg_cost)\n",
        "          \n",
        "          # Imprimimos las iteraciones\n",
        "          # current_lr = learning_rate * (1-lr_decay) ** (epoch * batch_size + i)\n",
        "          print(\"[{}] cost: {} lr: {}\".format(epoch, avg_cost, current_lr))\n",
        "\n",
        "      print(\"Entrenamiento finalizado!!\")\n",
        "\n",
        "      # comprobamos lo que ha aprendido nuestra red\n",
        "      correct_prediction = tf.equal(tf.argmax(pred, 1), tf.argmax(y, 1))\n",
        "\n",
        "      # calculamos el accuracy (precisión)\n",
        "      accuracy = tf.reduce_mean(tf.cast(correct_prediction, tf.float32))\n",
        "      print(\"Accuracy:\", accuracy.eval({x: mnist.test.images, y: mnist.test.labels}))\n",
        "      \n",
        "  # veamos nuestra función de pérdidas con respecto a las épocas ejecutadas\n",
        "  plt.plot(np.arange(0, n_epochs), costs)\n",
        "  plt.title(\"Training Loss\")\n",
        "  plt.xlabel(\"Epoch #\")\n",
        "  plt.ylabel(\"Loss\")"
      ],
      "execution_count": 0,
      "outputs": []
    },
    {
      "metadata": {
        "id": "S1S_x06lZRHQ",
        "colab_type": "code",
        "colab": {
          "autoexec": {
            "startup": false,
            "wait_interval": 0
          },
          "base_uri": "https://localhost:8080/",
          "height": 584
        },
        "outputId": "a95fb195-4de2-4850-e387-98a37a221efb",
        "executionInfo": {
          "status": "ok",
          "timestamp": 1528905095732,
          "user_tz": -60,
          "elapsed": 11027,
          "user": {
            "displayName": "Felix Jose Fuentes Hurtado",
            "photoUrl": "https://lh3.googleusercontent.com/a/default-user=s128",
            "userId": "110042652407127079790"
          }
        }
      },
      "cell_type": "code",
      "source": [
        "# vamos a probar nuestra red con decay\n",
        "learning_rate = 0.2\n",
        "lr_decay = 1e-4\n",
        "n_epochs = 10\n",
        "batch_size = 128\n",
        "train_network_decay(learning_rate, lr_decay, batch_size, n_epochs)"
      ],
      "execution_count": 10,
      "outputs": [
        {
          "output_type": "stream",
          "text": [
            "[0] cost: 0.4898977555108793 lr: 0.1916010261871087\n",
            "[1] cost: 0.3408067427870831 lr: 0.1835547661797656\n",
            "[2] cost: 0.31942093539071253 lr: 0.1758464078078892\n",
            "[3] cost: 0.30835120755058903 lr: 0.16846176093654192\n",
            "[4] cost: 0.29999272171017166 lr: 0.16138723134364402\n",
            "[5] cost: 0.28952525830491144 lr: 0.15460979569469252\n",
            "[6] cost: 0.2908590406457306 lr: 0.1481169775684114\n",
            "[7] cost: 0.2835736283750247 lr: 0.14189682448920288\n",
            "[8] cost: 0.28340456250942125 lr: 0.13593788592411676\n",
            "[9] cost: 0.2757561558505874 lr: 0.13022919220383444\n",
            "Entrenamiento finalizado!!\n",
            "Accuracy: 0.923\n"
          ],
          "name": "stdout"
        },
        {
          "output_type": "display_data",
          "data": {
            "image/png": "[encoded data removed]",
            "text/plain": [
              "<matplotlib.figure.Figure at 0x7ff40bbe5eb8>"
            ]
          },
          "metadata": {
            "tags": []
          }
        }
      ]
    },
    {
      "metadata": {
        "id": "zHrdVpJDWcxE",
        "colab_type": "text"
      },
      "cell_type": "markdown",
      "source": [
        "Fijaos que con esta simple mejora, hemos sido capaces de mejorar la precisión un poco con respecto al learning rate óptimo, que habíamos definido como 0.1. Y existen métodos más complejos de aplicar el *decay* que producen mejores resultados.\n",
        "\n",
        "**Así que ya sabéis, mucha atención al learning rate!!**\n",
        "\n",
        "**IMPORTANTE**: Cabe decir que esta implementación de learning rate *decay* es muy básica, tanto, que se cambia el learning rate para cada batch dentro de una época. Esto no es lo mejor, pero lo hemos hecho así por no complicar la programación. **Lo adecuado sería que se actualizara el learning rate para cada época**, no para cada batch. Tranquiiiilos, lo veremos en la siguiente sesión! ;-)\n"
      ]
    },
    {
      "metadata": {
        "id": "hlXGxShTMytR",
        "colab_type": "text"
      },
      "cell_type": "markdown",
      "source": [
        "### 3.2.2 Batch size\n",
        "\n",
        "Vamos a ver ahora qué es el **batch size**. ¿Recordáis cuando hemos hablado antes del SGD y el Mini-batch SGD? \n",
        "\n",
        "Recordad que el SGD es un Mini-bacth SGD donde $k=1$.\n",
        "\n",
        "Y que en el Mini-bacth SGD la $k$ indica el número de muestras que se utilizan para actualizar los pesos cada vez. Realmente, este no es un parámetro crítico y se suele establecer como el **número máximo de muestras potencia de 2 que caben en nuestra GPU**.\n",
        "\n",
        "Ejemplos:\n",
        "\n",
        "* Tenemos una GPU con 8GB de memoria, cuantas muestras nos caben si cada imagen ocupa 1MB?\n",
        "\n",
        "Bueno, pues no es tan fácil! Resulta que depende de la arquitectura de la red. Las capas *Densas* o *Fully Connected*, que son las tradicionales en las que todas las neuronas se interconectan con todas las neuronas de la siguiente capa, son las que **más parametros tienen**, y por consiguiente, las que **más memoria ocupan**.\n",
        "\n",
        "Luego tambien tenemos capas convolucionales, de pooling, de dropout, y de muchos otros tamaños. Así que en la práctica, es difícil calcular a mano cual es el número máximo de muestras que podemos usar.\n",
        "\n",
        "Lo que se hace es probar con tamaños de batch potencia de 2 e ir disminuyéndolo si tenemos un error de memoria. Por ejemplo, podríamos empezar con 512, y si nos da error ir bajando a 256, 128, 64, 32, 16, 8, 4, 2 e incluso 1. Dependiendo de la arquitectura de nuestra red, puede llegar a pasarnos que tengamos que usar $k=1$, y por tanto, SGD.\n",
        "\n",
        "Aunque muchas veces es preferible disminuir el tamaño de la imagen, por ejemplo, de 512x512 a 256x256 o 128x128 pixels, y usar un $k$ mayor.\n",
        "\n",
        "Yo por ejemplo he tenido que usar $k=1$ con imágenes de 512x512 y la arquitectura DenseNet. **Y no hay problema**, simplemente tarda **más tiempo** en llegar a una solución adecuada.\n",
        "\n",
        "Vamos a ver algunos casos de diferentes bath size siguiendo con el ejemplo anterior:"
      ]
    },
    {
      "metadata": {
        "id": "uZLOQ3nTO_bj",
        "colab_type": "code",
        "colab": {
          "autoexec": {
            "startup": false,
            "wait_interval": 0
          },
          "base_uri": "https://localhost:8080/",
          "height": 584
        },
        "outputId": "8c1b6611-50b4-4dcf-9944-29ebbd224048",
        "executionInfo": {
          "status": "ok",
          "timestamp": 1528905237297,
          "user_tz": -60,
          "elapsed": 2238,
          "user": {
            "displayName": "Felix Jose Fuentes Hurtado",
            "photoUrl": "https://lh3.googleusercontent.com/a/default-user=s128",
            "userId": "110042652407127079790"
          }
        }
      },
      "cell_type": "code",
      "source": [
        "# con batch_size = 2048\n",
        "learning_rate = 1.\n",
        "lr_decay = 1e-3\n",
        "n_epochs = 10\n",
        "batch_size = 2048\n",
        "train_network_decay(learning_rate, lr_decay, batch_size, n_epochs)"
      ],
      "execution_count": 11,
      "outputs": [
        {
          "output_type": "stream",
          "text": [
            "[0] cost: 0.9827671073950254 lr: 0.9743224148844496\n",
            "[1] cost: 0.4544283208938745 lr: 0.9493041681462656\n",
            "[2] cost: 0.37881892461043143 lr: 0.9249283295681431\n",
            "[3] cost: 0.3551194404180233 lr: 0.9011784036598737\n",
            "[4] cost: 0.34059980740913975 lr: 0.8780383184956015\n",
            "[5] cost: 0.3332436657868898 lr: 0.8554924148377159\n",
            "[6] cost: 0.3238594910273186 lr: 0.8335254355400126\n",
            "[7] cost: 0.3225323397379655 lr: 0.8121225152229574\n",
            "[8] cost: 0.3148868932173802 lr: 0.7912691702140651\n",
            "[9] cost: 0.31182464269491333 lr: 0.7709512887465825\n",
            "Entrenamiento finalizado!!\n",
            "Accuracy: 0.9186\n"
          ],
          "name": "stdout"
        },
        {
          "output_type": "display_data",
          "data": {
            "image/png": "[encoded data removed]",
            "text/plain": [
              "<matplotlib.figure.Figure at 0x7ff40bbd7d30>"
            ]
          },
          "metadata": {
            "tags": []
          }
        }
      ]
    },
    {
      "metadata": {
        "id": "oZ6v_fDqPVSa",
        "colab_type": "code",
        "colab": {
          "autoexec": {
            "startup": false,
            "wait_interval": 0
          },
          "base_uri": "https://localhost:8080/",
          "height": 584
        },
        "outputId": "861b2824-edb1-4cd9-8ccb-bbdb0ffa161b",
        "executionInfo": {
          "status": "ok",
          "timestamp": 1528905260633,
          "user_tz": -60,
          "elapsed": 6533,
          "user": {
            "displayName": "Felix Jose Fuentes Hurtado",
            "photoUrl": "https://lh3.googleusercontent.com/a/default-user=s128",
            "userId": "110042652407127079790"
          }
        }
      },
      "cell_type": "code",
      "source": [
        "# con batch_size = 256\n",
        "learning_rate = 1.\n",
        "lr_decay = 1e-3\n",
        "n_epochs = 10\n",
        "batch_size = 256\n",
        "train_network_decay(learning_rate, lr_decay, batch_size, n_epochs)"
      ],
      "execution_count": 12,
      "outputs": [
        {
          "output_type": "stream",
          "text": [
            "[0] cost: 0.4722893702510361 lr: 0.8072619457390746\n",
            "[1] cost: 0.31892424724369445 lr: 0.6516718490384363\n",
            "[2] cost: 0.29847805327344157 lr: 0.5260698848381481\n",
            "[3] cost: 0.2891105242839483 lr: 0.424676198829174\n",
            "[4] cost: 0.28981025231497326 lr: 0.34282493457591334\n",
            "[5] cost: 0.2786894456666205 lr: 0.2767495237336227\n",
            "[6] cost: 0.2763264244683436 lr: 0.22340935901156642\n",
            "[7] cost: 0.2764431079414403 lr: 0.18034987385199636\n",
            "[8] cost: 0.2721724461450755 lr: 0.14558959007955918\n",
            "[9] cost: 0.27053605535320047 lr: 0.11752893576697916\n",
            "Entrenamiento finalizado!!\n",
            "Accuracy: 0.9194\n"
          ],
          "name": "stdout"
        },
        {
          "output_type": "display_data",
          "data": {
            "image/png": "[encoded data removed]",
            "text/plain": [
              "<matplotlib.figure.Figure at 0x7ff408dabc88>"
            ]
          },
          "metadata": {
            "tags": []
          }
        }
      ]
    },
    {
      "metadata": {
        "id": "Ck_evhpWPc8u",
        "colab_type": "code",
        "colab": {
          "autoexec": {
            "startup": false,
            "wait_interval": 0
          },
          "base_uri": "https://localhost:8080/",
          "height": 584
        },
        "outputId": "459d47b1-2ada-4f13-b338-e6e9d4bc6ba5",
        "executionInfo": {
          "status": "ok",
          "timestamp": 1528905424793,
          "user_tz": -60,
          "elapsed": 38907,
          "user": {
            "displayName": "Felix Jose Fuentes Hurtado",
            "photoUrl": "https://lh3.googleusercontent.com/a/default-user=s128",
            "userId": "110042652407127079790"
          }
        }
      },
      "cell_type": "code",
      "source": [
        "# con batch_size = 32\n",
        "learning_rate = 1.\n",
        "lr_decay = 1e-3\n",
        "n_epochs = 10\n",
        "batch_size = 32\n",
        "train_network_decay(learning_rate, lr_decay, batch_size, n_epochs)"
      ],
      "execution_count": 13,
      "outputs": [
        {
          "output_type": "stream",
          "text": [
            "[0] cost: 0.4824395851482561 lr: 0.17927047625269885\n",
            "[1] cost: 0.41400741799208746 lr: 0.03213790365586953\n",
            "[2] cost: 0.3968147992349428 lr: 0.005761377294151086\n",
            "[3] cost: 0.3954429596280877 lr: 0.0010328448513939469\n",
            "[4] cost: 0.3898442281197053 lr: 0.0001851585884045409\n",
            "[5] cost: 0.37280570079731906 lr: 3.319346832555937e-05\n",
            "[6] cost: nan lr: 5.9506088752019245e-06\n",
            "[7] cost: nan lr: 1.066768487050985e-06\n",
            "[8] cost: nan lr: 1.9124009472500073e-07\n",
            "[9] cost: nan lr: 3.428370285996217e-08\n",
            "Entrenamiento finalizado!!\n",
            "Accuracy: 0.098\n"
          ],
          "name": "stdout"
        },
        {
          "output_type": "display_data",
          "data": {
            "image/png": "[encoded data removed]",
            "text/plain": [
              "<matplotlib.figure.Figure at 0x7ff408d23b00>"
            ]
          },
          "metadata": {
            "tags": []
          }
        }
      ]
    },
    {
      "metadata": {
        "id": "BeCdwKLGPkAy",
        "colab_type": "text"
      },
      "cell_type": "markdown",
      "source": [
        "### Vaya!! Qué es lo que ha pasado?\n",
        "\n",
        "Es muy importante tener en cuenta que el **learning rate va relacionado con el batch size**.\n",
        "\n",
        "Si nos aproximamos a $k=1$, debemos bajar el learning rate para que las actualizaciones de los pesos tengan menos importancia, ya que cada vez se aproxima más al SGD, es decir, a cálculos del gradiente con muestras aleatorias. \n",
        "\n",
        "Veamos qué pasa si disminuimos el learning rate:"
      ]
    },
    {
      "metadata": {
        "id": "Mm2a0cHOQFS0",
        "colab_type": "code",
        "colab": {
          "autoexec": {
            "startup": false,
            "wait_interval": 0
          },
          "base_uri": "https://localhost:8080/",
          "height": 584
        },
        "outputId": "a12699a4-137b-49f1-916c-db313ae532d8",
        "executionInfo": {
          "status": "ok",
          "timestamp": 1528905501412,
          "user_tz": -60,
          "elapsed": 38697,
          "user": {
            "displayName": "Felix Jose Fuentes Hurtado",
            "photoUrl": "https://lh3.googleusercontent.com/a/default-user=s128",
            "userId": "110042652407127079790"
          }
        }
      },
      "cell_type": "code",
      "source": [
        "# con batch_size = 32 y learning rate = 0.1\n",
        "learning_rate = 0.1\n",
        "lr_decay = 1e-3\n",
        "n_epochs = 10\n",
        "batch_size = 32\n",
        "train_network_decay(learning_rate, lr_decay, batch_size, n_epochs)"
      ],
      "execution_count": 14,
      "outputs": [
        {
          "output_type": "stream",
          "text": [
            "[0] cost: 0.42205457592315826 lr: 0.017927047625269966\n",
            "[1] cost: 0.3175910651159061 lr: 0.0032137903655869524\n",
            "[2] cost: 0.30104726893616973 lr: 0.0005761377294151077\n",
            "[3] cost: 0.29097789896780024 lr: 0.00010328448513939445\n",
            "[4] cost: 0.28441126218306295 lr: 1.8515858840453976e-05\n",
            "[5] cost: 0.28189487164629795 lr: 3.319346832555929e-06\n",
            "[6] cost: 0.27484169554147464 lr: 5.950608875201886e-07\n",
            "[7] cost: 0.2728122087093601 lr: 1.0667684870509775e-07\n",
            "[8] cost: 0.2729905635027411 lr: 1.9124009472500008e-08\n",
            "[9] cost: 0.268850374921324 lr: 3.4283702859962135e-09\n",
            "Entrenamiento finalizado!!\n",
            "Accuracy: 0.9212\n"
          ],
          "name": "stdout"
        },
        {
          "output_type": "display_data",
          "data": {
            "image/png": "[encoded data removed]",
            "text/plain": [
              "<matplotlib.figure.Figure at 0x7ff408c0d128>"
            ]
          },
          "metadata": {
            "tags": []
          }
        }
      ]
    },
    {
      "metadata": {
        "id": "6piKxddOQWvL",
        "colab_type": "text"
      },
      "cell_type": "markdown",
      "source": [
        "Y si os fijáis en la curva de pérdidas, podéis intuir que todavía es demasiado grande, puesto que la función no es monótona decreciente, es decir, que no disminuye en cada época. Así que sería mejor usar un learning rate aun menor. Veámoslo:"
      ]
    },
    {
      "metadata": {
        "id": "_vfLaLRjQm2m",
        "colab_type": "code",
        "colab": {
          "autoexec": {
            "startup": false,
            "wait_interval": 0
          },
          "base_uri": "https://localhost:8080/",
          "height": 584
        },
        "outputId": "9692cb1d-41dd-439a-ec69-b0dd9411f907",
        "executionInfo": {
          "status": "ok",
          "timestamp": 1528905553411,
          "user_tz": -60,
          "elapsed": 38156,
          "user": {
            "displayName": "Felix Jose Fuentes Hurtado",
            "photoUrl": "https://lh3.googleusercontent.com/a/default-user=s128",
            "userId": "110042652407127079790"
          }
        }
      },
      "cell_type": "code",
      "source": [
        "# con batch_size = 32 y learning_rate=0.01\n",
        "learning_rate = 0.01\n",
        "lr_decay = 1e-3\n",
        "n_epochs = 10\n",
        "batch_size = 32\n",
        "train_network_decay(learning_rate, lr_decay, batch_size, n_epochs)"
      ],
      "execution_count": 15,
      "outputs": [
        {
          "output_type": "stream",
          "text": [
            "[0] cost: 0.7867655093858644 lr: 0.0017927047625269862\n",
            "[1] cost: 0.4677898835074223 lr: 0.0003213790365586939\n",
            "[2] cost: 0.4098261326195823 lr: 5.761377294151061e-05\n",
            "[3] cost: 0.382332584594091 lr: 1.0328448513939483e-05\n",
            "[4] cost: 0.36872548682396206 lr: 1.851585884045414e-06\n",
            "[5] cost: 0.3530398687744591 lr: 3.319346832555951e-07\n",
            "[6] cost: 0.3433060100295588 lr: 5.9506088752019195e-08\n",
            "[7] cost: 0.33774197616801954 lr: 1.0667684870509865e-08\n",
            "[8] cost: 0.32968557648993885 lr: 1.9124009472500145e-09\n",
            "[9] cost: 0.32482685075424433 lr: 3.4283702859962255e-10\n",
            "Entrenamiento finalizado!!\n",
            "Accuracy: 0.9156\n"
          ],
          "name": "stdout"
        },
        {
          "output_type": "display_data",
          "data": {
            "image/png": "[encoded data removed]",
            "text/plain": [
              "<matplotlib.figure.Figure at 0x7ff408b53f60>"
            ]
          },
          "metadata": {
            "tags": []
          }
        }
      ]
    },
    {
      "metadata": {
        "id": "V_7BEzfsQ8Fw",
        "colab_type": "text"
      },
      "cell_type": "markdown",
      "source": [
        "Fijáos como el Accuracy es menor con el learning rate más bajo. ¿Esto por qué? Acordaos! Necesitamos más épocas, ya que los pesos se actualizan más lentamente :)\n",
        "\n",
        "### ¿Os dáis cuenta? Como deberes os dejo que hagáis pruebas variando estos parámetros ;-)"
      ]
    },
    {
      "metadata": {
        "id": "geMndMZoD4PV",
        "colab_type": "text"
      },
      "cell_type": "markdown",
      "source": [
        "## 3.3 Funciones de pérdidas y funciones de activación\n",
        "\n",
        "### 3.3.1 Funciones de pérdidas\n",
        "\n",
        "¿Qué es una función de pérdidas (o de coste)? ¿Quién sabe decírmelo?\n",
        "\n",
        "La función de pérdidas es la que nos indica en cuánto nos hemos equivocado con nuestras predicciones.\n",
        "\n",
        "Imaginad que tenemos que adivinar cuánto cuesta una casa simplemente viendo una foto. Nuestra red tendría como entrada los píxels de la foto, y como salida un número indicando el precio.\n",
        "\n",
        "Por ejemplo, digamos que queremos predecir el precio de esta casa:\n",
        "\n",
        "<img src=\"https://cdn.elgrupoinformatico.com/img/w720/Noticias/2018/05/memes-chalet-pablo-iglesias-irene-montero-720x362.jpg\" border=\"0\">\n",
        "\n",
        "Imaginaos que estamos entrenando la red y que esta casa está dentro de nuestro conjunto de training. Cuando la imagen pasa hacia delante, se calcula una predicción, que es que vale 323.567€. La verdad es que la casa cuesta 600.000€, así que parece obvio que una función de pérdidas adecuada podría ser:\n",
        "\n",
        "$f_{loss} = prediccion - valor\\_real$\n",
        "\n",
        "¿Lo entendéis verdad? Es exactamente lo mismo que con un SVM o la regresión lineal, por ejemplo.\n",
        "\n",
        "Bueno, pues para no enrollarme mucho, estas son las funciones de pérdidas más comunes:\n",
        "\n",
        "* **Problemas de regresión**\n",
        " * Mean Squared Error\n",
        " * Mean Absolute Error\n",
        "* **Problemas de clasificación**\n",
        " * Binary Cross-Entropy\n",
        " * Categorical Cross-Entropy\n",
        "\n",
        "Veamos qué son cada una:\n",
        "\n",
        "* Mean Squared Error\n",
        "\n",
        "$$MSE = \\frac{1}{n} \\sum^{n}_{i=1} (y_i-x_i)^2$$\n",
        "\n",
        "* Mean Absolute Error\n",
        "\n",
        "$$MAE = \\frac{1}{n} \\sum^{n}_{i=1} |y_i-x_i|$$\n",
        "\n",
        "Hasta aquí todo bien verdad? Pero.. qué es la entropía cruzada o cross-entropy?\n",
        "\n",
        "Vamos a verla en este ejemplo a parte:\n",
        "\n",
        "https://colab.research.google.com/drive/1FLM26U7Co5DwqCpyVyxFgQJfax94cEnE?authuser=2\n",
        "\n",
        "Bueno, pues ahora que está claro qué son las funciones de pérdidas, vamos a por las de activación!\n",
        "\n",
        "### 3.3.2 Funciones de activación\n",
        "\n",
        "Os he de confesar una cosa: la magia de las redes neuronales no es solo el back-propagation. Sin las funciones de activación, las redes neuronales no funcionarían. ¿Alguien sabe decirme por qué?\n",
        "\n",
        "..\n",
        "\n",
        "\n",
        "..\n",
        "\n",
        "\n",
        "..\n",
        "\n",
        "Os doy una pista:\n",
        "\n",
        "### Qué pasaría si no existiese la función de activación?\n",
        "\n",
        "<img src=\"https://image.ibb.co/ftYCVo/what_if_no_activation_function.png\" alt=\"what_if_no_activation_function\" border=\"0\">\n",
        "\n",
        "Tendríamos que $y(x)= Wx + b$. Esto es una combinación lineal que sería incapaz incluso de resolver un problema como el XOR.\n",
        "\n",
        "<img src=\"https://image.ibb.co/kg9GO8/xor.gif\" alt=\"xor\" border=\"0\">\n",
        "\n",
        "Por lo tanto, necesitamos una forma de introducir **no linealidades**, y de eso es de lo que se encarga la **función de activación**. En la siguiente imagen podéis ver algunas de las más típicas, y donde interviene en la red:\n",
        "\n",
        "<img src=\"https://image.ibb.co/bVS6qo/perceptron_activation.png\" alt=\"perceptron_activation\" border=\"0\" width=\"600\">\n",
        "\n",
        "Aquí podéis ver las más usadas:\n",
        "\n",
        "<img src=\"https://image.ibb.co/gMG5kd/activation_functions.png\" alt=\"activation_functions\" border=\"0\" width=\"600\">\n",
        "\n",
        "Es difícil saber con cual de ellas nuestra red se va a comportar mejor, pero existe una que suele dar buenos resultados casi siempre: la **ReLU**. Por lo tanto, siempre que empecemos, emplearemos la ReLU, y una vez consigamos unos resultados que consideremos buenos, podemos probar con la Leaky ReLU, o cualquier otra que os apetezca. Cada día salen nuevas, y una simple búsqueda en google os puede llevar a alguna interesante: como la SELU, por ejemplo (https://towardsdatascience.com/selu-make-fnns-great-again-snn-8d61526802a9).\n",
        "\n",
        "Muchas de estas funciones de activación necesitan métodos específicos de **inicialización de pesos**, para que esten dentro de unos valores y que el descenso del gradiente funcione adecuadamente.\n",
        "\n",
        "Veamos qué es lo que pasa si empleamos diferentes funciones de activación con nuestra ya conocida red:"
      ]
    },
    {
      "metadata": {
        "id": "9LUQxK5nVrKo",
        "colab_type": "code",
        "colab": {
          "autoexec": {
            "startup": false,
            "wait_interval": 0
          },
          "base_uri": "https://localhost:8080/",
          "height": 86
        },
        "outputId": "50be1dea-5403-4f52-e645-ba13908e2aa5",
        "executionInfo": {
          "status": "ok",
          "timestamp": 1528905765421,
          "user_tz": -60,
          "elapsed": 964,
          "user": {
            "displayName": "Felix Jose Fuentes Hurtado",
            "photoUrl": "https://lh3.googleusercontent.com/a/default-user=s128",
            "userId": "110042652407127079790"
          }
        }
      },
      "cell_type": "code",
      "source": [
        "# ejemplos de funciones de activación\n",
        "\n",
        "# para ello, priemro hacemos los imports necesarios y después definimos una \n",
        "# función que creará y entrenará la red, teniendo como entrada la función de\n",
        "# activación que queremos usar\n",
        "\n",
        "# imports necesarios\n",
        "import numpy as np\n",
        "import matplotlib.pyplot as plt\n",
        "import tensorflow as tf\n",
        "# importamos el dataset MNIST y cargamos los datos\n",
        "from tensorflow.examples.tutorials.mnist import input_data\n",
        "mnist = input_data.read_data_sets(\"/tmp/data/\", one_hot=True)"
      ],
      "execution_count": 16,
      "outputs": [
        {
          "output_type": "stream",
          "text": [
            "Extracting /tmp/data/train-images-idx3-ubyte.gz\n",
            "Extracting /tmp/data/train-labels-idx1-ubyte.gz\n",
            "Extracting /tmp/data/t10k-images-idx3-ubyte.gz\n",
            "Extracting /tmp/data/t10k-labels-idx1-ubyte.gz\n"
          ],
          "name": "stdout"
        }
      ]
    },
    {
      "metadata": {
        "id": "DSabWje7VqLz",
        "colab_type": "code",
        "colab": {
          "autoexec": {
            "startup": false,
            "wait_interval": 0
          }
        }
      },
      "cell_type": "code",
      "source": [
        "# definimos la función para entrenar nuestra red con los parámetros deseados\n",
        "def train_network_decay_fnact(activation_function, learning_rate, lr_decay, batch_size, n_epochs):\n",
        "  \n",
        "  # creamos los contenedores para nuestras entradas y salidas\n",
        "  x = tf.placeholder(tf.float32, [None, 784]) # imágenes del mnist: 28*28=784\n",
        "  y = tf.placeholder(tf.float32, [None, 10]) # número indicando la clase 0-9 => 10 clases\n",
        "  \n",
        "  # y creamos las variables W y b para el entrenamiento\n",
        "  W = tf.Variable(tf.zeros([784, 10]))\n",
        "  b = tf.Variable(tf.zeros([10]))\n",
        "\n",
        "  # por último, construimos el modelo\n",
        "  pred = activation_function(tf.matmul(x, W) + b)\n",
        "\n",
        "  # ahora, definimos nuestra función de pérdidas: esta vez, la cros-entropía\n",
        "  # no os preocupéis, la veremos en detalle en la próxima sesión\n",
        "  # a veces la llaman loss, a veces cost => es lo mismo\n",
        "  cost = tf.reduce_mean(-tf.reduce_sum(y*tf.log(pred), reduction_indices=1))\n",
        "\n",
        "  # calculamos los gradientes (gradient descent)\n",
        "  grad_W, grad_b = tf.gradients(xs=[W, b], ys=cost)\n",
        "  \n",
        "  # definimos las operaciones para actualizar los pesos con los gradientes calculados\n",
        "  # e implementamos el learning rate decay\n",
        "  new_W = W.assign(W - learning_rate * (1-lr_decay) * grad_W)\n",
        "  new_b = b.assign(b - learning_rate * (1-lr_decay) * grad_b)\n",
        "\n",
        "  # inicializamos las variables\n",
        "  init = tf.global_variables_initializer()\n",
        "  \n",
        "  # para almacenar el histórico de costes\n",
        "  costs = []\n",
        "  # inicializamos current_lr\n",
        "  current_lr = learning_rate\n",
        "  # empezamos la sesión\n",
        "  with tf.Session() as sess:\n",
        "      sess.run(init)\n",
        "\n",
        "      # entrenamiento de nuestra red\n",
        "      for epoch in range(n_epochs):\n",
        "          avg_cost = 0.\n",
        "          total_batch = int(mnist.train.num_examples/batch_size)\n",
        "\n",
        "          # y si en vez de actualizar los pesos para cada imagen, lo hacemos\n",
        "          # de X en X imágenes?\n",
        "          for i in range(total_batch):\n",
        "              batch_xs, batch_ys = mnist.train.next_batch(batch_size)\n",
        "\n",
        "              # ejecutamos la optimización\n",
        "              Wc, bc, c = sess.run([new_W, new_b ,cost], feed_dict={x: batch_xs,\n",
        "                                                                    y: batch_ys})\n",
        "\n",
        "              # calculamos el coste teniendo en cuenta los batches que hay\n",
        "              avg_cost += c / total_batch\n",
        "              \n",
        "              # actualizamos el learning_rate igual que lo hace tensorflow\n",
        "              current_lr = current_lr * (1-lr_decay)\n",
        "\n",
        "          # guardamos nuestro coste en el histórico\n",
        "          costs.append(avg_cost)\n",
        "          \n",
        "          # Imprimimos las iteraciones\n",
        "          # current_lr = learning_rate * (1-lr_decay) ** (epoch * batch_size + i)\n",
        "          print(\"[{}] cost: {} lr: {}\".format(epoch, avg_cost, current_lr))\n",
        "\n",
        "      print(\"Entrenamiento finalizado!!\")\n",
        "\n",
        "      # comprobamos lo que ha aprendido nuestra red\n",
        "      correct_prediction = tf.equal(tf.argmax(pred, 1), tf.argmax(y, 1))\n",
        "\n",
        "      # calculamos el accuracy (precisión)\n",
        "      accuracy = tf.reduce_mean(tf.cast(correct_prediction, tf.float32))\n",
        "      print(\"Accuracy:\", accuracy.eval({x: mnist.test.images, y: mnist.test.labels}))\n",
        "      \n",
        "  # veamos nuestra función de pérdidas con respecto a las épocas ejecutadas\n",
        "  plt.plot(np.arange(0, n_epochs), costs)\n",
        "  plt.title(\"Training Loss\")\n",
        "  plt.xlabel(\"Epoch #\")\n",
        "  plt.ylabel(\"Loss\")"
      ],
      "execution_count": 0,
      "outputs": []
    },
    {
      "metadata": {
        "id": "Rc8JoxsdHhrO",
        "colab_type": "text"
      },
      "cell_type": "markdown",
      "source": [
        "# Vamos a probar con la Sigmoide\n",
        "\n",
        "<img src=\"https://image.ibb.co/cMMqJ8/act_fn_sigmoid.png\" alt=\"act_fn_sigmoid\" border=\"0\" height=\"250\">"
      ]
    },
    {
      "metadata": {
        "id": "5AI72-5wV6Rt",
        "colab_type": "code",
        "colab": {
          "autoexec": {
            "startup": false,
            "wait_interval": 0
          },
          "base_uri": "https://localhost:8080/",
          "height": 584
        },
        "outputId": "135477e7-6c89-4459-fdd6-938871b8771f",
        "executionInfo": {
          "status": "ok",
          "timestamp": 1528905785030,
          "user_tz": -60,
          "elapsed": 10578,
          "user": {
            "displayName": "Felix Jose Fuentes Hurtado",
            "photoUrl": "https://lh3.googleusercontent.com/a/default-user=s128",
            "userId": "110042652407127079790"
          }
        }
      },
      "cell_type": "code",
      "source": [
        "# probamos la sigmoid\n",
        "activation_function = tf.nn.sigmoid\n",
        "learning_rate = 0.1\n",
        "lr_decay = 1e-3\n",
        "n_epochs = 10\n",
        "batch_size = 128\n",
        "train_network_decay_fnact(activation_function, learning_rate, lr_decay, batch_size, n_epochs)"
      ],
      "execution_count": 18,
      "outputs": [
        {
          "output_type": "stream",
          "text": [
            "[0] cost: 0.035936149819547826 lr: 0.06510201771893982\n",
            "[1] cost: 0.006146789223415933 lr: 0.04238272711077151\n",
            "[2] cost: 0.003809813255908744 lr: 0.02759201051342441\n",
            "[3] cost: 0.0028048163379753117 lr: 0.017962955573461316\n",
            "[4] cost: 0.0022391080997432714 lr: 0.011694246520280062\n",
            "[5] cost: 0.0018638535500406402 lr: 0.007613190441729219\n",
            "[6] cost: 0.0016101583248788003 lr: 0.004956340590351182\n",
            "[7] cost: 0.0014130406238796478 lr: 0.003226677729341426\n",
            "[8] cost: 0.0012645483416416153 lr: 0.0021006323070889344\n",
            "[9] cost: 0.001143715374762223 lr: 0.001367554016770813\n",
            "Entrenamiento finalizado!!\n",
            "Accuracy: 0.6723\n"
          ],
          "name": "stdout"
        },
        {
          "output_type": "display_data",
          "data": {
            "image/png": "[encoded data removed]",
            "text/plain": [
              "<matplotlib.figure.Figure at 0x7ff408a20550>"
            ]
          },
          "metadata": {
            "tags": []
          }
        }
      ]
    },
    {
      "metadata": {
        "id": "mHiIKghWHz3f",
        "colab_type": "text"
      },
      "cell_type": "markdown",
      "source": [
        "# Veamos con la tanh\n",
        "\n",
        "<img src=\"https://image.ibb.co/haCKBT/act_fn_tanh.png\" alt=\"act_fn_tanh\" border=\"0\" height=\"250\">"
      ]
    },
    {
      "metadata": {
        "id": "a_wY_6hiXIyD",
        "colab_type": "code",
        "colab": {
          "autoexec": {
            "startup": false,
            "wait_interval": 0
          },
          "base_uri": "https://localhost:8080/",
          "height": 584
        },
        "outputId": "a9ccbfe1-76c6-48a8-ea75-185b137e4dac",
        "executionInfo": {
          "status": "ok",
          "timestamp": 1528905804271,
          "user_tz": -60,
          "elapsed": 10767,
          "user": {
            "displayName": "Felix Jose Fuentes Hurtado",
            "photoUrl": "https://lh3.googleusercontent.com/a/default-user=s128",
            "userId": "110042652407127079790"
          }
        }
      },
      "cell_type": "code",
      "source": [
        "# probamos la tanh\n",
        "activation_function = tf.nn.tanh\n",
        "learning_rate = 0.1\n",
        "lr_decay = 1e-3\n",
        "n_epochs = 10\n",
        "batch_size = 128\n",
        "train_network_decay_fnact(activation_function, learning_rate, lr_decay, batch_size, n_epochs)"
      ],
      "execution_count": 19,
      "outputs": [
        {
          "output_type": "stream",
          "text": [
            "[0] cost: nan lr: 0.06510201771893982\n",
            "[1] cost: nan lr: 0.04238272711077151\n",
            "[2] cost: nan lr: 0.02759201051342441\n",
            "[3] cost: nan lr: 0.017962955573461316\n",
            "[4] cost: nan lr: 0.011694246520280062\n",
            "[5] cost: nan lr: 0.007613190441729219\n",
            "[6] cost: nan lr: 0.004956340590351182\n",
            "[7] cost: nan lr: 0.003226677729341426\n",
            "[8] cost: nan lr: 0.0021006323070889344\n",
            "[9] cost: nan lr: 0.001367554016770813\n",
            "Entrenamiento finalizado!!\n",
            "Accuracy: 0.098\n"
          ],
          "name": "stdout"
        },
        {
          "output_type": "display_data",
          "data": {
            "image/png": "[encoded data removed]",
            "text/plain": [
              "<matplotlib.figure.Figure at 0x7ff408a536d8>"
            ]
          },
          "metadata": {
            "tags": []
          }
        }
      ]
    },
    {
      "metadata": {
        "id": "j3tSe_xXKKJh",
        "colab_type": "text"
      },
      "cell_type": "markdown",
      "source": [
        "### ¡Vaya! ¿Qué está pasando?\n",
        "\n",
        "Probemos a cambiar la inicialización de la bias, en vez de a 0s, a 1s."
      ]
    },
    {
      "metadata": {
        "id": "gqgIhAZkKZIn",
        "colab_type": "code",
        "colab": {
          "autoexec": {
            "startup": false,
            "wait_interval": 0
          }
        }
      },
      "cell_type": "code",
      "source": [
        "# definimos la función para entrenar nuestra red con los parámetros deseados\n",
        "def train_network_decay_fnact_b1(activation_function, learning_rate, lr_decay, batch_size, n_epochs):\n",
        "  \n",
        "  # creamos los contenedores para nuestras entradas y salidas\n",
        "  x = tf.placeholder(tf.float32, [None, 784]) # imágenes del mnist: 28*28=784\n",
        "  y = tf.placeholder(tf.float32, [None, 10]) # número indicando la clase 0-9 => 10 clases\n",
        "  \n",
        "  # y creamos las variables W y b para el entrenamiento\n",
        "  W = tf.Variable(tf.zeros([784, 10]))\n",
        "  b = tf.Variable(tf.ones([10]))\n",
        "\n",
        "  # por último, construimos el modelo\n",
        "  pred = activation_function(tf.matmul(x, W) + b)\n",
        "\n",
        "  # ahora, definimos nuestra función de pérdidas: esta vez, la cros-entropía\n",
        "  # no os preocupéis, la veremos en detalle en la próxima sesión\n",
        "  # a veces la llaman loss, a veces cost => es lo mismo\n",
        "  cost = tf.reduce_mean(-tf.reduce_sum(y*tf.log(pred), reduction_indices=1))\n",
        "\n",
        "  # calculamos los gradientes (gradient descent)\n",
        "  grad_W, grad_b = tf.gradients(xs=[W, b], ys=cost)\n",
        "  \n",
        "  # definimos las operaciones para actualizar los pesos con los gradientes calculados\n",
        "  # e implementamos el learning rate decay\n",
        "  new_W = W.assign(W - learning_rate * (1-lr_decay) * grad_W)\n",
        "  new_b = b.assign(b - learning_rate * (1-lr_decay) * grad_b)\n",
        "\n",
        "  # inicializamos las variables\n",
        "  init = tf.global_variables_initializer()\n",
        "  \n",
        "  # para almacenar el histórico de costes\n",
        "  costs = []\n",
        "  # inicializamos current_lr\n",
        "  current_lr = learning_rate\n",
        "  # empezamos la sesión\n",
        "  with tf.Session() as sess:\n",
        "      sess.run(init)\n",
        "\n",
        "      # entrenamiento de nuestra red\n",
        "      for epoch in range(n_epochs):\n",
        "          avg_cost = 0.\n",
        "          total_batch = int(mnist.train.num_examples/batch_size)\n",
        "\n",
        "          # y si en vez de actualizar los pesos para cada imagen, lo hacemos\n",
        "          # de X en X imágenes?\n",
        "          for i in range(total_batch):\n",
        "              batch_xs, batch_ys = mnist.train.next_batch(batch_size)\n",
        "\n",
        "              # ejecutamos la optimización\n",
        "              Wc, bc, c = sess.run([new_W, new_b ,cost], feed_dict={x: batch_xs,\n",
        "                                                                    y: batch_ys})\n",
        "\n",
        "              # calculamos el coste teniendo en cuenta los batches que hay\n",
        "              avg_cost += c / total_batch\n",
        "              \n",
        "              # actualizamos el learning_rate igual que lo hace tensorflow\n",
        "              current_lr = current_lr * (1-lr_decay)\n",
        "\n",
        "          # guardamos nuestro coste en el histórico\n",
        "          costs.append(avg_cost)\n",
        "          \n",
        "          # Imprimimos las iteraciones\n",
        "          # current_lr = learning_rate * (1-lr_decay) ** (epoch * batch_size + i)\n",
        "          print(\"[{}] cost: {} lr: {}\".format(epoch, avg_cost, current_lr))\n",
        "\n",
        "      print(\"Entrenamiento finalizado!!\")\n",
        "\n",
        "      # comprobamos lo que ha aprendido nuestra red\n",
        "      correct_prediction = tf.equal(tf.argmax(pred, 1), tf.argmax(y, 1))\n",
        "\n",
        "      # calculamos el accuracy (precisión)\n",
        "      accuracy = tf.reduce_mean(tf.cast(correct_prediction, tf.float32))\n",
        "      print(\"Accuracy:\", accuracy.eval({x: mnist.test.images, y: mnist.test.labels}))\n",
        "      \n",
        "  # veamos nuestra función de pérdidas con respecto a las épocas ejecutadas\n",
        "  plt.plot(np.arange(0, n_epochs), costs)\n",
        "  plt.title(\"Training Loss\")\n",
        "  plt.xlabel(\"Epoch #\")\n",
        "  plt.ylabel(\"Loss\")"
      ],
      "execution_count": 0,
      "outputs": []
    },
    {
      "metadata": {
        "id": "yGYKMiT1KdLL",
        "colab_type": "code",
        "colab": {
          "autoexec": {
            "startup": false,
            "wait_interval": 0
          },
          "base_uri": "https://localhost:8080/",
          "height": 584
        },
        "outputId": "90740927-4c29-4058-d340-100deda74dfd",
        "executionInfo": {
          "status": "ok",
          "timestamp": 1528905833351,
          "user_tz": -60,
          "elapsed": 10409,
          "user": {
            "displayName": "Felix Jose Fuentes Hurtado",
            "photoUrl": "https://lh3.googleusercontent.com/a/default-user=s128",
            "userId": "110042652407127079790"
          }
        }
      },
      "cell_type": "code",
      "source": [
        "# probamos la tanh y bias 1 en vez de 0\n",
        "activation_function = tf.nn.tanh\n",
        "learning_rate = 0.1\n",
        "lr_decay = 1e-3\n",
        "n_epochs = 10\n",
        "batch_size = 128\n",
        "train_network_decay_fnact_b1(activation_function, learning_rate, lr_decay, batch_size, n_epochs)"
      ],
      "execution_count": 21,
      "outputs": [
        {
          "output_type": "stream",
          "text": [
            "[0] cost: 0.008567189146213168 lr: 0.06510201771893982\n",
            "[1] cost: 0.0015115365187913239 lr: 0.04238272711077151\n",
            "[2] cost: 0.0009434066102557789 lr: 0.02759201051342441\n",
            "[3] cost: 0.0006914417901714621 lr: 0.017962955573461316\n",
            "[4] cost: 0.000558661536510604 lr: 0.011694246520280062\n",
            "[5] cost: 0.00046673576643452785 lr: 0.007613190441729219\n",
            "[6] cost: 0.0003992559028450736 lr: 0.004956340590351182\n",
            "[7] cost: 0.0003525195120929335 lr: 0.003226677729341426\n",
            "[8] cost: 0.0003155032007606037 lr: 0.0021006323070889344\n",
            "[9] cost: 0.00028583545085544203 lr: 0.001367554016770813\n",
            "Entrenamiento finalizado!!\n",
            "Accuracy: 0.6676\n"
          ],
          "name": "stdout"
        },
        {
          "output_type": "display_data",
          "data": {
            "image/png": "[encoded data removed]",
            "text/plain": [
              "<matplotlib.figure.Figure at 0x7ff408c6a048>"
            ]
          },
          "metadata": {
            "tags": []
          }
        }
      ]
    },
    {
      "metadata": {
        "id": "dAJF2Jb6K1He",
        "colab_type": "text"
      },
      "cell_type": "markdown",
      "source": [
        "### Parece que hemos conseguido mejorarlo!!\n",
        "\n",
        "** Ahora, por lo menos, nuestra red se entrena... pero no se comporta todo lo bien que esperábamos, verdad?**\n",
        "\n",
        "Vamos a probar a cambiar la función de pérdidas, de la cros-entropía al error cuadrático medio:"
      ]
    },
    {
      "metadata": {
        "id": "_Gk3iIApK929",
        "colab_type": "code",
        "colab": {
          "autoexec": {
            "startup": false,
            "wait_interval": 0
          }
        }
      },
      "cell_type": "code",
      "source": [
        "# definimos la función para entrenar nuestra red con los parámetros deseados\n",
        "def train_network_decay_fnact_b1_mse(activation_function, learning_rate, lr_decay, batch_size, n_epochs):\n",
        "  \n",
        "  # creamos los contenedores para nuestras entradas y salidas\n",
        "  x = tf.placeholder(tf.float32, [None, 784]) # imágenes del mnist: 28*28=784\n",
        "  y = tf.placeholder(tf.float32, [None, 10]) # número indicando la clase 0-9 => 10 clases\n",
        "  \n",
        "  # y creamos las variables W y b para el entrenamiento\n",
        "  W = tf.Variable(tf.zeros([784, 10]))\n",
        "  b = tf.Variable(tf.ones([10]))\n",
        "\n",
        "  # por último, construimos el modelo\n",
        "  pred = activation_function(tf.matmul(x, W) + b)\n",
        "\n",
        "  # ahora, definimos nuestra función de pérdidas: esta vez, la cros-entropía\n",
        "  # no os preocupéis, la veremos en detalle en la próxima sesión\n",
        "  # a veces la llaman loss, a veces cost => es lo mismo\n",
        "  # cost = tf.reduce_mean(-tf.reduce_sum(y*tf.log(pred), reduction_indices=1))\n",
        "  cost = tf.reduce_mean(tf.squared_difference(pred, y))\n",
        "\n",
        "  # calculamos los gradientes (gradient descent)\n",
        "  grad_W, grad_b = tf.gradients(xs=[W, b], ys=cost)\n",
        "  \n",
        "  # definimos las operaciones para actualizar los pesos con los gradientes calculados\n",
        "  # e implementamos el learning rate decay\n",
        "  new_W = W.assign(W - learning_rate * (1-lr_decay) * grad_W)\n",
        "  new_b = b.assign(b - learning_rate * (1-lr_decay) * grad_b)\n",
        "\n",
        "  # inicializamos las variables\n",
        "  init = tf.global_variables_initializer()\n",
        "  \n",
        "  # para almacenar el histórico de costes\n",
        "  costs = []\n",
        "  # inicializamos current_lr\n",
        "  current_lr = learning_rate\n",
        "  # empezamos la sesión\n",
        "  with tf.Session() as sess:\n",
        "      sess.run(init)\n",
        "\n",
        "      # entrenamiento de nuestra red\n",
        "      for epoch in range(n_epochs):\n",
        "          avg_cost = 0.\n",
        "          total_batch = int(mnist.train.num_examples/batch_size)\n",
        "\n",
        "          # y si en vez de actualizar los pesos para cada imagen, lo hacemos\n",
        "          # de X en X imágenes?\n",
        "          for i in range(total_batch):\n",
        "              batch_xs, batch_ys = mnist.train.next_batch(batch_size)\n",
        "\n",
        "              # ejecutamos la optimización\n",
        "              Wc, bc, c = sess.run([new_W, new_b ,cost], feed_dict={x: batch_xs,\n",
        "                                                                    y: batch_ys})\n",
        "\n",
        "              # calculamos el coste teniendo en cuenta los batches que hay\n",
        "              avg_cost += c / total_batch\n",
        "              \n",
        "              # actualizamos el learning_rate igual que lo hace tensorflow\n",
        "              current_lr = current_lr * (1-lr_decay)\n",
        "\n",
        "          # guardamos nuestro coste en el histórico\n",
        "          costs.append(avg_cost)\n",
        "          \n",
        "          # Imprimimos las iteraciones\n",
        "          # current_lr = learning_rate * (1-lr_decay) ** (epoch * batch_size + i)\n",
        "          print(\"[{}] cost: {} lr: {}\".format(epoch, avg_cost, current_lr))\n",
        "\n",
        "      print(\"Entrenamiento finalizado!!\")\n",
        "\n",
        "      # comprobamos lo que ha aprendido nuestra red\n",
        "      correct_prediction = tf.equal(tf.argmax(pred, 1), tf.argmax(y, 1))\n",
        "\n",
        "      # calculamos el accuracy (precisión)\n",
        "      accuracy = tf.reduce_mean(tf.cast(correct_prediction, tf.float32))\n",
        "      print(\"Accuracy:\", accuracy.eval({x: mnist.test.images, y: mnist.test.labels}))\n",
        "      \n",
        "  # veamos nuestra función de pérdidas con respecto a las épocas ejecutadas\n",
        "  plt.plot(np.arange(0, n_epochs), costs)\n",
        "  plt.title(\"Training Loss\")\n",
        "  plt.xlabel(\"Epoch #\")\n",
        "  plt.ylabel(\"Loss\")"
      ],
      "execution_count": 0,
      "outputs": []
    },
    {
      "metadata": {
        "id": "l0TBurcgK9DB",
        "colab_type": "code",
        "colab": {
          "autoexec": {
            "startup": false,
            "wait_interval": 0
          },
          "base_uri": "https://localhost:8080/",
          "height": 584
        },
        "outputId": "df7cc8cb-4d9d-401f-869a-b82b0d4606ca",
        "executionInfo": {
          "status": "ok",
          "timestamp": 1528905927352,
          "user_tz": -60,
          "elapsed": 9336,
          "user": {
            "displayName": "Felix Jose Fuentes Hurtado",
            "photoUrl": "https://lh3.googleusercontent.com/a/default-user=s128",
            "userId": "110042652407127079790"
          }
        }
      },
      "cell_type": "code",
      "source": [
        "# probamos la tanh, bias = 1 y loss_fn = mse\n",
        "activation_function = tf.nn.tanh\n",
        "learning_rate = 0.1\n",
        "lr_decay = 1e-3\n",
        "n_epochs = 10\n",
        "batch_size = 128\n",
        "train_network_decay_fnact_b1_mse(activation_function, learning_rate, lr_decay, batch_size, n_epochs)"
      ],
      "execution_count": 23,
      "outputs": [
        {
          "output_type": "stream",
          "text": [
            "[0] cost: 0.07851576766038268 lr: 0.06510201771893982\n",
            "[1] cost: 0.05618496550928743 lr: 0.04238272711077151\n",
            "[2] cost: 0.049051673765921656 lr: 0.02759201051342441\n",
            "[3] cost: 0.045769153453739636 lr: 0.017962955573461316\n",
            "[4] cost: 0.044257891666152856 lr: 0.011694246520280062\n",
            "[5] cost: 0.04346213744202137 lr: 0.007613190441729219\n",
            "[6] cost: 0.04305531931194396 lr: 0.004956340590351182\n",
            "[7] cost: 0.042813544211548794 lr: 0.003226677729341426\n",
            "[8] cost: 0.04267546571878011 lr: 0.0021006323070889344\n",
            "[9] cost: 0.04248433499347358 lr: 0.001367554016770813\n",
            "Entrenamiento finalizado!!\n",
            "Accuracy: 0.8522\n"
          ],
          "name": "stdout"
        },
        {
          "output_type": "display_data",
          "data": {
            "image/png": "[encoded data removed]",
            "text/plain": [
              "<matplotlib.figure.Figure at 0x7ff408b47b38>"
            ]
          },
          "metadata": {
            "tags": []
          }
        }
      ]
    },
    {
      "metadata": {
        "id": "wlKmAv_wMFwj",
        "colab_type": "text"
      },
      "cell_type": "markdown",
      "source": [
        "¿Os dáis cuenta? Hay 3 cosas que van íntimamente ligadas y de las que debemos ocuparnos para encontrar una buena configuración:\n",
        "\n",
        "* **La función de activación**\n",
        "* **La función de pérdidas**\n",
        "* **La inicialización de los pesos y bias**\n",
        "\n",
        "### Vamos a probar que pasaría si también inicializásemos los pesos con unos en vez de con ceros: "
      ]
    },
    {
      "metadata": {
        "id": "-vxifHhIMh68",
        "colab_type": "code",
        "colab": {
          "autoexec": {
            "startup": false,
            "wait_interval": 0
          }
        }
      },
      "cell_type": "code",
      "source": [
        "# cambiamos la inicialización de los pesos a 1s en vez de 0s\n",
        "# definimos la función para entrenar nuestra red con los parámetros deseados\n",
        "def train_network_decay_fnact_w1_b1_mse(activation_function, learning_rate, lr_decay, batch_size, n_epochs):\n",
        "  \n",
        "  # creamos los contenedores para nuestras entradas y salidas\n",
        "  x = tf.placeholder(tf.float32, [None, 784]) # imágenes del mnist: 28*28=784\n",
        "  y = tf.placeholder(tf.float32, [None, 10]) # número indicando la clase 0-9 => 10 clases\n",
        "  \n",
        "  # y creamos las variables W y b para el entrenamiento\n",
        "  W = tf.Variable(tf.ones([784, 10]))\n",
        "  b = tf.Variable(tf.ones([10]))\n",
        "\n",
        "  # por último, construimos el modelo\n",
        "  pred = activation_function(tf.matmul(x, W) + b)\n",
        "\n",
        "  # ahora, definimos nuestra función de pérdidas: esta vez, la cros-entropía\n",
        "  # no os preocupéis, la veremos en detalle en la próxima sesión\n",
        "  # a veces la llaman loss, a veces cost => es lo mismo\n",
        "  # cost = tf.reduce_mean(-tf.reduce_sum(y*tf.log(pred), reduction_indices=1))\n",
        "  cost = tf.reduce_mean(tf.squared_difference(pred, y))\n",
        "\n",
        "  # calculamos los gradientes (gradient descent)\n",
        "  grad_W, grad_b = tf.gradients(xs=[W, b], ys=cost)\n",
        "  \n",
        "  # definimos las operaciones para actualizar los pesos con los gradientes calculados\n",
        "  # e implementamos el learning rate decay\n",
        "  new_W = W.assign(W - learning_rate * (1-lr_decay) * grad_W)\n",
        "  new_b = b.assign(b - learning_rate * (1-lr_decay) * grad_b)\n",
        "\n",
        "  # inicializamos las variables\n",
        "  init = tf.global_variables_initializer()\n",
        "  \n",
        "  # para almacenar el histórico de costes\n",
        "  costs = []\n",
        "  # inicializamos current_lr\n",
        "  current_lr = learning_rate\n",
        "  # empezamos la sesión\n",
        "  with tf.Session() as sess:\n",
        "      sess.run(init)\n",
        "\n",
        "      # entrenamiento de nuestra red\n",
        "      for epoch in range(n_epochs):\n",
        "          avg_cost = 0.\n",
        "          total_batch = int(mnist.train.num_examples/batch_size)\n",
        "\n",
        "          # y si en vez de actualizar los pesos para cada imagen, lo hacemos\n",
        "          # de X en X imágenes?\n",
        "          for i in range(total_batch):\n",
        "              batch_xs, batch_ys = mnist.train.next_batch(batch_size)\n",
        "\n",
        "              # ejecutamos la optimización\n",
        "              Wc, bc, c = sess.run([new_W, new_b ,cost], feed_dict={x: batch_xs,\n",
        "                                                                    y: batch_ys})\n",
        "\n",
        "              # calculamos el coste teniendo en cuenta los batches que hay\n",
        "              avg_cost += c / total_batch\n",
        "              \n",
        "              # actualizamos el learning_rate igual que lo hace tensorflow\n",
        "              current_lr = current_lr * (1-lr_decay)\n",
        "\n",
        "          # guardamos nuestro coste en el histórico\n",
        "          costs.append(avg_cost)\n",
        "          \n",
        "          # Imprimimos las iteraciones\n",
        "          # current_lr = learning_rate * (1-lr_decay) ** (epoch * batch_size + i)\n",
        "          print(\"[{}] cost: {} lr: {}\".format(epoch, avg_cost, current_lr))\n",
        "\n",
        "      print(\"Entrenamiento finalizado!!\")\n",
        "\n",
        "      # comprobamos lo que ha aprendido nuestra red\n",
        "      correct_prediction = tf.equal(tf.argmax(pred, 1), tf.argmax(y, 1))\n",
        "\n",
        "      # calculamos el accuracy (precisión)\n",
        "      accuracy = tf.reduce_mean(tf.cast(correct_prediction, tf.float32))\n",
        "      print(\"Accuracy:\", accuracy.eval({x: mnist.test.images, y: mnist.test.labels}))\n",
        "      \n",
        "  # veamos nuestra función de pérdidas con respecto a las épocas ejecutadas\n",
        "  plt.plot(np.arange(0, n_epochs), costs)\n",
        "  plt.title(\"Training Loss\")\n",
        "  plt.xlabel(\"Epoch #\")\n",
        "  plt.ylabel(\"Loss\")"
      ],
      "execution_count": 0,
      "outputs": []
    },
    {
      "metadata": {
        "id": "YB9r83MkMnCn",
        "colab_type": "code",
        "colab": {
          "autoexec": {
            "startup": false,
            "wait_interval": 0
          },
          "base_uri": "https://localhost:8080/",
          "height": 584
        },
        "outputId": "bb909162-93f2-4386-8cea-3663145c24a2",
        "executionInfo": {
          "status": "ok",
          "timestamp": 1528906049208,
          "user_tz": -60,
          "elapsed": 9166,
          "user": {
            "displayName": "Felix Jose Fuentes Hurtado",
            "photoUrl": "https://lh3.googleusercontent.com/a/default-user=s128",
            "userId": "110042652407127079790"
          }
        }
      },
      "cell_type": "code",
      "source": [
        "# probamos la tanh, weights = 1, bias = 1 y loss_fn = mse\n",
        "activation_function = tf.nn.tanh\n",
        "learning_rate = 0.1\n",
        "lr_decay = 1e-3\n",
        "n_epochs = 10\n",
        "batch_size = 128\n",
        "train_network_decay_fnact_w1_b1_mse(activation_function, learning_rate, lr_decay, batch_size, n_epochs)"
      ],
      "execution_count": 25,
      "outputs": [
        {
          "output_type": "stream",
          "text": [
            "[0] cost: 0.8999999761581354 lr: 0.06510201771893982\n",
            "[1] cost: 0.8999999761581354 lr: 0.04238272711077151\n",
            "[2] cost: 0.8999999761581354 lr: 0.02759201051342441\n",
            "[3] cost: 0.8999999761581354 lr: 0.017962955573461316\n",
            "[4] cost: 0.8999999761581354 lr: 0.011694246520280062\n",
            "[5] cost: 0.8999999761581354 lr: 0.007613190441729219\n",
            "[6] cost: 0.8999999761581354 lr: 0.004956340590351182\n",
            "[7] cost: 0.8999999761581354 lr: 0.003226677729341426\n",
            "[8] cost: 0.8999999761581354 lr: 0.0021006323070889344\n",
            "[9] cost: 0.8999999761581354 lr: 0.001367554016770813\n",
            "Entrenamiento finalizado!!\n",
            "Accuracy: 0.098\n"
          ],
          "name": "stdout"
        },
        {
          "output_type": "display_data",
          "data": {
            "image/png": "[encoded data removed]",
            "text/plain": [
              "<matplotlib.figure.Figure at 0x7ff408e54320>"
            ]
          },
          "metadata": {
            "tags": []
          }
        }
      ]
    },
    {
      "metadata": {
        "id": "dpi7Ekg_OeJo",
        "colab_type": "text"
      },
      "cell_type": "markdown",
      "source": [
        "### Y si inicializamos los pesos aleatoriamente escogiendolos de una distribución normal *truncada*?"
      ]
    },
    {
      "metadata": {
        "id": "ONNn7WbcOYkB",
        "colab_type": "code",
        "colab": {
          "autoexec": {
            "startup": false,
            "wait_interval": 0
          }
        }
      },
      "cell_type": "code",
      "source": [
        "# definimos la función para entrenar nuestra red con los parámetros deseados\n",
        "def train_network_decay_fnact_wNT_b1_mse(activation_function, learning_rate, lr_decay, batch_size, n_epochs):\n",
        "  \n",
        "  # creamos los contenedores para nuestras entradas y salidas\n",
        "  x = tf.placeholder(tf.float32, [None, 784]) # imágenes del mnist: 28*28=784\n",
        "  y = tf.placeholder(tf.float32, [None, 10]) # número indicando la clase 0-9 => 10 clases\n",
        "  \n",
        "  # y creamos las variables W y b para el entrenamiento\n",
        "  W = tf.Variable(tf.truncated_normal([784, 10], mean=0.0, stddev=1.0, dtype=tf.float32, seed=42, name=None))\n",
        "  b = tf.Variable(tf.ones([10]))\n",
        "\n",
        "  # por último, construimos el modelo\n",
        "  pred = activation_function(tf.matmul(x, W) + b)\n",
        "\n",
        "  # ahora, definimos nuestra función de pérdidas: esta vez, la cros-entropía\n",
        "  # no os preocupéis, la veremos en detalle en la próxima sesión\n",
        "  # a veces la llaman loss, a veces cost => es lo mismo\n",
        "  # cost = tf.reduce_mean(-tf.reduce_sum(y*tf.log(pred), reduction_indices=1))\n",
        "  cost = tf.reduce_mean(tf.squared_difference(pred, y))\n",
        "\n",
        "  # calculamos los gradientes (gradient descent)\n",
        "  grad_W, grad_b = tf.gradients(xs=[W, b], ys=cost)\n",
        "  \n",
        "  # definimos las operaciones para actualizar los pesos con los gradientes calculados\n",
        "  # e implementamos el learning rate decay\n",
        "  new_W = W.assign(W - learning_rate * (1-lr_decay) * grad_W)\n",
        "  new_b = b.assign(b - learning_rate * (1-lr_decay) * grad_b)\n",
        "\n",
        "  # inicializamos las variables\n",
        "  init = tf.global_variables_initializer()\n",
        "  \n",
        "  # para almacenar el histórico de costes\n",
        "  costs = []\n",
        "  # inicializamos current_lr\n",
        "  current_lr = learning_rate\n",
        "  # empezamos la sesión\n",
        "  with tf.Session() as sess:\n",
        "      sess.run(init)\n",
        "\n",
        "      # entrenamiento de nuestra red\n",
        "      for epoch in range(n_epochs):\n",
        "          avg_cost = 0.\n",
        "          total_batch = int(mnist.train.num_examples/batch_size)\n",
        "\n",
        "          # y si en vez de actualizar los pesos para cada imagen, lo hacemos\n",
        "          # de X en X imágenes?\n",
        "          for i in range(total_batch):\n",
        "              batch_xs, batch_ys = mnist.train.next_batch(batch_size)\n",
        "\n",
        "              # ejecutamos la optimización\n",
        "              Wc, bc, c = sess.run([new_W, new_b ,cost], feed_dict={x: batch_xs,\n",
        "                                                                    y: batch_ys})\n",
        "\n",
        "              # calculamos el coste teniendo en cuenta los batches que hay\n",
        "              avg_cost += c / total_batch\n",
        "              \n",
        "              # actualizamos el learning_rate igual que lo hace tensorflow\n",
        "              current_lr = current_lr * (1-lr_decay)\n",
        "\n",
        "          # guardamos nuestro coste en el histórico\n",
        "          costs.append(avg_cost)\n",
        "          \n",
        "          # Imprimimos las iteraciones\n",
        "          # current_lr = learning_rate * (1-lr_decay) ** (epoch * batch_size + i)\n",
        "          print(\"[{}] cost: {} lr: {}\".format(epoch, avg_cost, current_lr))\n",
        "\n",
        "      print(\"Entrenamiento finalizado!!\")\n",
        "\n",
        "      # comprobamos lo que ha aprendido nuestra red\n",
        "      correct_prediction = tf.equal(tf.argmax(pred, 1), tf.argmax(y, 1))\n",
        "\n",
        "      # calculamos el accuracy (precisión)\n",
        "      accuracy = tf.reduce_mean(tf.cast(correct_prediction, tf.float32))\n",
        "      print(\"Accuracy:\", accuracy.eval({x: mnist.test.images, y: mnist.test.labels}))\n",
        "      \n",
        "  # veamos nuestra función de pérdidas con respecto a las épocas ejecutadas\n",
        "  plt.plot(np.arange(0, n_epochs), costs)\n",
        "  plt.title(\"Training Loss\")\n",
        "  plt.xlabel(\"Epoch #\")\n",
        "  plt.ylabel(\"Loss\")"
      ],
      "execution_count": 0,
      "outputs": []
    },
    {
      "metadata": {
        "id": "99i1G7F5PJp3",
        "colab_type": "code",
        "colab": {
          "autoexec": {
            "startup": false,
            "wait_interval": 0
          },
          "base_uri": "https://localhost:8080/",
          "height": 584
        },
        "outputId": "a64a8d0a-ece5-40ab-d541-af3b8f2ba134",
        "executionInfo": {
          "status": "ok",
          "timestamp": 1528906073467,
          "user_tz": -60,
          "elapsed": 8981,
          "user": {
            "displayName": "Felix Jose Fuentes Hurtado",
            "photoUrl": "https://lh3.googleusercontent.com/a/default-user=s128",
            "userId": "110042652407127079790"
          }
        }
      },
      "cell_type": "code",
      "source": [
        "# probamos la tanh, weights = 1, bias = 1 y loss_fn = mse\n",
        "activation_function = tf.nn.tanh\n",
        "learning_rate = 0.1\n",
        "lr_decay = 1e-3\n",
        "n_epochs = 10\n",
        "batch_size = 128\n",
        "train_network_decay_fnact_wNT_b1_mse(activation_function, learning_rate, lr_decay, batch_size, n_epochs)"
      ],
      "execution_count": 27,
      "outputs": [
        {
          "output_type": "stream",
          "text": [
            "[0] cost: 0.9982440246568683 lr: 0.06510201771893982\n",
            "[1] cost: 0.9433101774095651 lr: 0.04238272711077151\n",
            "[2] cost: 0.9011349972589308 lr: 0.02759201051342441\n",
            "[3] cost: 0.8752757998613213 lr: 0.017962955573461316\n",
            "[4] cost: 0.8630672612668189 lr: 0.011694246520280062\n",
            "[5] cost: 0.8511220598832149 lr: 0.007613190441729219\n",
            "[6] cost: 0.8324934155235205 lr: 0.004956340590351182\n",
            "[7] cost: 0.8170695536898017 lr: 0.003226677729341426\n",
            "[8] cost: 0.8106723809853573 lr: 0.0021006323070889344\n",
            "[9] cost: 0.8059393241133167 lr: 0.001367554016770813\n",
            "Entrenamiento finalizado!!\n",
            "Accuracy: 0.2274\n"
          ],
          "name": "stdout"
        },
        {
          "output_type": "display_data",
          "data": {
            "image/png": "[encoded data removed]",
            "text/plain": [
              "<matplotlib.figure.Figure at 0x7ff409247320>"
            ]
          },
          "metadata": {
            "tags": []
          }
        }
      ]
    },
    {
      "metadata": {
        "id": "iWgDJYQxM1s5",
        "colab_type": "text"
      },
      "cell_type": "markdown",
      "source": [
        "### Lo que pretendo con estos ejemplos es que os deis cuenta de la importancia de estos 3 parámetros. Recordad, merece la pena *perder* un poco de tiempo hasta encontrar una configuración adecuada de:\n",
        "\n",
        "* **La función de activación**\n",
        "* **La función de pérdidas**\n",
        "* **La inicialización de los pesos y bias**\n",
        "\n",
        "### También es importante que tengáis en cuenta que ahora mismo, nuestra red tiene una sola capa. Cuando tengamos redes con varias capas ocultas, hay funciones de activación que se deben utilizar en las capas ocultas y otras en las de salida. Por ejemplo, las de tipo ReLU, ELU y Maxout, son para las capas ocultas. La softmax es la que se suele emplear siempre en la salida, ya que da una distribución de probabilidades que suman 1.\n",
        "\n",
        "Vamos a seguir con las otras funciones de activación. Usaremos la red que usa el MSE y una bias = 1."
      ]
    },
    {
      "metadata": {
        "id": "KHnklfiKIBvC",
        "colab_type": "text"
      },
      "cell_type": "markdown",
      "source": [
        "# Veamos con la ReLU\n",
        "\n",
        "<img src=\"https://image.ibb.co/mSsKBT/act_fn_relu.png\" alt=\"act_fn_relu\" border=\"0\" height=\"250\">\n",
        "\n",
        "<img src=\"https://image.ibb.co/iUdsWT/act_fn_relu2.png\" alt=\"act_fn_relu2\" border=\"0\" height=\"250\">\n",
        "\n",
        "<img src=\"https://image.ibb.co/fzXako/act_fn_relu3.png\" alt=\"act_fn_relu3\" border=\"0\" height=\"250\">"
      ]
    },
    {
      "metadata": {
        "id": "omYn8ADoIYII",
        "colab_type": "code",
        "colab": {
          "autoexec": {
            "startup": false,
            "wait_interval": 0
          },
          "base_uri": "https://localhost:8080/",
          "height": 584
        },
        "outputId": "9d808dcf-aebe-4e68-c9dc-6fe3695dd692",
        "executionInfo": {
          "status": "ok",
          "timestamp": 1528906118861,
          "user_tz": -60,
          "elapsed": 9108,
          "user": {
            "displayName": "Felix Jose Fuentes Hurtado",
            "photoUrl": "https://lh3.googleusercontent.com/a/default-user=s128",
            "userId": "110042652407127079790"
          }
        }
      },
      "cell_type": "code",
      "source": [
        "# probamos la ReLU\n",
        "activation_function = tf.nn.relu\n",
        "learning_rate = 0.1\n",
        "lr_decay = 1e-3\n",
        "n_epochs = 10\n",
        "batch_size = 128\n",
        "train_network_decay_fnact_b1_mse(activation_function, learning_rate, lr_decay, batch_size, n_epochs)"
      ],
      "execution_count": 28,
      "outputs": [
        {
          "output_type": "stream",
          "text": [
            "[0] cost: 0.04845020632609069 lr: 0.06510201771893982\n",
            "[1] cost: 0.03346349809987422 lr: 0.04238272711077151\n",
            "[2] cost: 0.031349843259388464 lr: 0.02759201051342441\n",
            "[3] cost: 0.02986457926114819 lr: 0.017962955573461316\n",
            "[4] cost: 0.02892562177787709 lr: 0.011694246520280062\n",
            "[5] cost: 0.028500378748406354 lr: 0.007613190441729219\n",
            "[6] cost: 0.027806927873329692 lr: 0.004956340590351182\n",
            "[7] cost: 0.02754956809912389 lr: 0.003226677729341426\n",
            "[8] cost: 0.027229805570312883 lr: 0.0021006323070889344\n",
            "[9] cost: 0.02692173974097886 lr: 0.001367554016770813\n",
            "Entrenamiento finalizado!!\n",
            "Accuracy: 0.832\n"
          ],
          "name": "stdout"
        },
        {
          "output_type": "display_data",
          "data": {
            "image/png": "[encoded data removed]",
            "text/plain": [
              "<matplotlib.figure.Figure at 0x7ff3f3e90a20>"
            ]
          },
          "metadata": {
            "tags": []
          }
        }
      ]
    },
    {
      "metadata": {
        "id": "-mYTORMJIZqD",
        "colab_type": "text"
      },
      "cell_type": "markdown",
      "source": [
        "# Veamos con la Leaky RELU\n",
        "\n",
        "<img src=\"https://image.ibb.co/j5pAJ8/act_fn_lrelu.png\" alt=\"act_fn_lrelu\" border=\"0\" height=\"250\">"
      ]
    },
    {
      "metadata": {
        "id": "F0_60T2MIhQQ",
        "colab_type": "code",
        "colab": {
          "autoexec": {
            "startup": false,
            "wait_interval": 0
          },
          "base_uri": "https://localhost:8080/",
          "height": 584
        },
        "outputId": "0bd1ce4e-587f-4f80-9b2a-6dbd925e7e28",
        "executionInfo": {
          "status": "ok",
          "timestamp": 1528906132473,
          "user_tz": -60,
          "elapsed": 9840,
          "user": {
            "displayName": "Felix Jose Fuentes Hurtado",
            "photoUrl": "https://lh3.googleusercontent.com/a/default-user=s128",
            "userId": "110042652407127079790"
          }
        }
      },
      "cell_type": "code",
      "source": [
        "# probamos la Leaky ReLU, bias = 1 y loss_fn = mse\n",
        "activation_function = tf.nn.leaky_relu\n",
        "learning_rate = 0.1\n",
        "lr_decay = 1e-3\n",
        "n_epochs = 10\n",
        "batch_size = 128\n",
        "train_network_decay_fnact_b1_mse(activation_function, learning_rate, lr_decay, batch_size, n_epochs)"
      ],
      "execution_count": 29,
      "outputs": [
        {
          "output_type": "stream",
          "text": [
            "[0] cost: 0.05358669781809926 lr: 0.06510201771893982\n",
            "[1] cost: 0.038298199951891855 lr: 0.04238272711077151\n",
            "[2] cost: 0.0344629025125837 lr: 0.02759201051342441\n",
            "[3] cost: 0.032088530308508376 lr: 0.017962955573461316\n",
            "[4] cost: 0.030703581821842074 lr: 0.011694246520280062\n",
            "[5] cost: 0.029464746349966583 lr: 0.007613190441729219\n",
            "[6] cost: 0.028931056798407517 lr: 0.004956340590351182\n",
            "[7] cost: 0.02825130205731709 lr: 0.003226677729341426\n",
            "[8] cost: 0.027825979767736313 lr: 0.0021006323070889344\n",
            "[9] cost: 0.02775942892843472 lr: 0.001367554016770813\n",
            "Entrenamiento finalizado!!\n",
            "Accuracy: 0.9\n"
          ],
          "name": "stdout"
        },
        {
          "output_type": "display_data",
          "data": {
            "image/png": "[encoded data removed]",
            "text/plain": [
              "<matplotlib.figure.Figure at 0x7ff3f3dd3198>"
            ]
          },
          "metadata": {
            "tags": []
          }
        }
      ]
    },
    {
      "metadata": {
        "id": "UfyGWtw8Ih_R",
        "colab_type": "text"
      },
      "cell_type": "markdown",
      "source": [
        "# Veamos con la ELU\n",
        "\n",
        "<img src=\"https://image.ibb.co/gEJgQo/act_fn_elu.png\" alt=\"act_fn_elu\" border=\"0\" height=\"250\">"
      ]
    },
    {
      "metadata": {
        "id": "jN9Zx6ylIozk",
        "colab_type": "code",
        "colab": {
          "autoexec": {
            "startup": false,
            "wait_interval": 0
          },
          "base_uri": "https://localhost:8080/",
          "height": 584
        },
        "outputId": "1a6ddd3c-c7d2-496d-8f6e-3ea5d9a473b1",
        "executionInfo": {
          "status": "ok",
          "timestamp": 1528906197568,
          "user_tz": -60,
          "elapsed": 9402,
          "user": {
            "displayName": "Felix Jose Fuentes Hurtado",
            "photoUrl": "https://lh3.googleusercontent.com/a/default-user=s128",
            "userId": "110042652407127079790"
          }
        }
      },
      "cell_type": "code",
      "source": [
        "# probamos la ELU, bias = 1 y loss_fn = mse\n",
        "activation_function = tf.nn.elu\n",
        "learning_rate = 0.1\n",
        "lr_decay = 1e-3\n",
        "n_epochs = 10\n",
        "batch_size = 128\n",
        "train_network_decay_fnact_b1_mse(activation_function, learning_rate, lr_decay, batch_size, n_epochs)"
      ],
      "execution_count": 30,
      "outputs": [
        {
          "output_type": "stream",
          "text": [
            "[0] cost: 0.07337283130327026 lr: 0.06510201771893982\n",
            "[1] cost: 0.051138519667662155 lr: 0.04238272711077151\n",
            "[2] cost: 0.04445412989471342 lr: 0.02759201051342441\n",
            "[3] cost: 0.04127005407790755 lr: 0.017962955573461316\n",
            "[4] cost: 0.03986838601946412 lr: 0.011694246520280062\n",
            "[5] cost: 0.03932712585741268 lr: 0.007613190441729219\n",
            "[6] cost: 0.03882252590813282 lr: 0.004956340590351182\n",
            "[7] cost: 0.03867876056434115 lr: 0.003226677729341426\n",
            "[8] cost: 0.03850351326115483 lr: 0.0021006323070889344\n",
            "[9] cost: 0.03850874890918496 lr: 0.001367554016770813\n",
            "Entrenamiento finalizado!!\n",
            "Accuracy: 0.8649\n"
          ],
          "name": "stdout"
        },
        {
          "output_type": "display_data",
          "data": {
            "image/png": "[encoded data removed]",
            "text/plain": [
              "<matplotlib.figure.Figure at 0x7ff3f3e96278>"
            ]
          },
          "metadata": {
            "tags": []
          }
        }
      ]
    },
    {
      "metadata": {
        "id": "H3tgMjOAIsMh",
        "colab_type": "text"
      },
      "cell_type": "markdown",
      "source": [
        "# Veamos con la Maxout\n",
        "\n",
        "<img src=\"https://image.ibb.co/hWg1Qo/act_fn_maxout.png\" alt=\"act_fn_maxout\" border=\"0\" height=\"250\">\n",
        "\n",
        "Básicamente esta función de activación devuelve el máximo de múltiples posibles salidas para cada entrada. Al final, es una generalización de la ReLU y la Leaky ReLU. Para la ReLU, por ejemplo, tenemos $w_1=b_1=0$). Por lo tanto, la Maxout se beneficia de todas las ventajas de la ReLU (es lineal y no satura) y además evita matar el gradiente cuando $x<0$.\n",
        "\n",
        "Para que nos entendamos, podemos aproximar cualquier función con varias maxouts, como podéis ver en la imagen siguiente, en la que aproximamos $y=x^2$ con 3 maxouts:\n",
        "\n",
        "<img src=\"https://image.ibb.co/co951T/maxout_aproximator.png\" alt=\"maxout_aproximator\" border=\"0\" height=\"250\">\n",
        "\n",
        "Este tipo de activación funciona bien cuando se combina con Dropout, que lo veremos al final de esta sesión.\n",
        "\n",
        "No os preocupéis, más adelante implementaremos nuestra función de activación Maxout! ;-)\n",
        "\n",
        "Si queréis saber más, aquí tenéis una presentación de Ian Goodfellow donde explican cómo funciona:  http://www.ms.uky.edu/~qye/MA721/maxout.pdf\n",
        "\n",
        "Y aquí el paper original: https://arxiv.org/abs/1302.4389\n",
        "\n",
        "Más info: \n",
        "\n",
        " * http://cs231n.github.io/neural-networks-1/"
      ]
    },
    {
      "metadata": {
        "id": "AL9rwNH1I5I1",
        "colab_type": "text"
      },
      "cell_type": "markdown",
      "source": [
        "# Atención:\n",
        "\n",
        "### Como he comentado antes, en el caso de las capas de salida, practicamente siempre se utiliza la función de activación de tipo softmax, ya que es capaz de dar una probabilidad a cada clase, haciendo que todas ellas sumen 1.\n",
        "\n",
        "Como esto puede parecer un poco complicado, os voy a escribir aquí la receta que sigo yo y que hasta ahora me ha dado buenos resultados:\n",
        "\n",
        "# Receta\n",
        "\n",
        "* Empezar usando la ReLU con un learning rate de 0.01 o 0.001, y observar qué pasa.\n",
        "\n",
        "* Si la red entrena (va convergiendo) pero es lenta, podéis probar a aumentar un poco el learning rate\n",
        "\n",
        "* Si la red no converge y se compora de forma caótica, disminuid el learning rate\n",
        "\n",
        "* Una vez tengáis la red funcionando, probad con la Leaky ReLU, la Maxout o la ELU\n",
        "\n",
        "* No uséis la sigmoide, en la práctica no suele dar buenos resultados\n"
      ]
    },
    {
      "metadata": {
        "id": "2pxfMOpR2WEz",
        "colab_type": "text"
      },
      "cell_type": "markdown",
      "source": [
        "## 3.5 Inicialización de pesos\n",
        "\n",
        "Como habéis visto antes, la inicialización de los pesos y la bias es muy importante para conseguir la convergencia de nuestra red a un mínimo adecuado. Así que vamos a ver algunas formas de inicializar los pesos.\n",
        "\n",
        "Siguiendo con nuestro ejemplo del MNIST, nuestra matriz de pesos va a ser de 768 (entradas) x 10 (salidas).\n",
        "\n",
        "### 3.5.1 Inicialización constante\n",
        "\n",
        "Podemos inicializar nuestros pesos a cero:\n",
        "\n",
        "`W = np.zeros((768, 10))`\n",
        "\n",
        "A uno:\n",
        "\n",
        "`W = np.ones((768, 10))`\n",
        "\n",
        "O a una constante $C$:\n",
        "\n",
        "`W = np.ones((768, 10)) * C`\n",
        "\n",
        "### 3.5.2 Distribución normal y uniforme\n",
        "\n",
        "También podemos inicializar los pesos usando una distribución **uniforme**, en la que se definen un $[upper\\_bound, lower\\_bound]$ y todos los números dentro del rango tienen la misma probabilidad de ser escogidos. Por ejemplo, para una distribución entre $[-0.2, 0.2]$:\n",
        "\n",
        "`W = np.random.uniform(low=-0.2, high=0.2, size=(768, 10))`\n",
        "\n",
        "Con esta instrucción, inicializaremos la matriz de pesos $W$ con valores extraídos del rango entre $[-0.2, 0.2]$ donde todos ellos tienen la misma probabilidad de ser extraídos.\n",
        "\n",
        "También podemos hacerlo con una distribución **normal** o Gaussiana, la cual viene definida como:\n",
        "\n",
        "$$p(x)=\\frac{1}{\\sqrt{2\\pi\\sigma^2}}e^{-\\frac{(x-\\mu)^2}{2\\sigma^2}}$$\n",
        "\n",
        "Donde como ya sabéis:\n",
        "\n",
        "* $\\mu$ es la media\n",
        "* $\\sigma$ es la desviación estándar, y $\\sigma^2$ la varianza\n",
        "\n",
        "Así que podríamos inicializar nuestros pesos con una distribución normal con $\\mu = 0$ y $\\sigma = 0.2$, por ejemplo, de la siguiente forma:\n",
        "\n",
        "`W = np.random.normal(0.0, 0.2, size=(768, 10))`\n",
        "\n",
        "### 3.5.3 Inicialización: LeCun normal y uniforme\n",
        "\n",
        "Otra forma más avanzada es el método de LeCun, también conocido como *\"Efficient backprop\"*.\n",
        "\n",
        "Este método define 3 parámetros:\n",
        "\n",
        "* $f_{in}$: número de entradas a la capa (en nuestro ejemplo, 768)\n",
        "* $f_{out}$: número de salidas de la capa (en nuestro ejemplo, 10)\n",
        "* $limit$: queda definido según $f_{in}$ y $f{out}$ como $limit = \\sqrt{\\frac{3}{f_{in}}}$\n",
        "\n",
        "El código para inicializar $W$ mediante este método usando una distribución uniforme sería:\n",
        "\n",
        "`W = np.random.uniform(low=-limit, high=limit, size=(F_in, F_out))`\n",
        "\n",
        "Y para una normal:\n",
        "\n",
        "`W = np.random.normal(low=-limit, high=limit, size=(F_in, F_out))`\n",
        "\n",
        "### 3.5.4 Inicialización: Glorot/Xavier normal y uniforme\n",
        "\n",
        "Esta es quizás el método más empleado a la hora de inicializar los pesos y la bias. De hecho, es el empleado por defecto cuando se utiliza Keras, un framework que veréis en la próxima sesión.\n",
        "\n",
        "En este caso también se definen los mismos parámetros que con LeCun, pero varía el cálculo del $limit$:\n",
        "\n",
        " $limit = \\sqrt{\\frac{2}{f_{in}+f_{out}}}$\n",
        " \n",
        " El código para inicializar $W$ mediante este método sería el mismo que con LeCun. \n",
        " \n",
        " Para una distribución uniforme sería:\n",
        "\n",
        "`W = np.random.uniform(low=-limit, high=limit, size=(F_in, F_out))`\n",
        "\n",
        "Y para una normal:\n",
        "\n",
        "`W = np.random.normal(low=-limit, high=limit, size=(F_in, F_out))`\n",
        "\n",
        "### 3.5.5 Inicialización: He et al./Kaiming/MSRA normal y uniforme\n",
        "\n",
        "Este método debe su nombre a Kaiming He, el primer autor de *Delving Deep into Rectifiers: Surpassing Human-Level Performance on ImageNet Classification*.\n",
        "\n",
        "Normalmente, este método se usa cuando estamos entrenando redes neuronales *muy profundas* que usan un tipo particular de ReLU como activación: la Parametric ReLU).\n",
        "\n",
        "El código en el caso de la uniforme es este:\n",
        "\n",
        "`limit = np.sqrt(6 / float(F_ini))`\n",
        "\n",
        "`W = np.random.uniform(low=-limit, high=limit, size=(F_in, F_out))`\n",
        "\n",
        "\n",
        "Y en el caso de la normal, este:\n",
        "\n",
        "\n",
        "`limit = np.sqrt(2 / float(F_ini))`\n",
        "\n",
        "`W = np.random.uniform(low=-limit, high=limit, size=(F_in, F_out))`\n",
        "\n",
        "\n",
        "## Consejo:\n",
        "\n",
        "La inicialización de los pesos no suele ser determinante en el entrenamiento de una red, pero a veces puede hacer que la red no empiece a entrenar porque no consigue converger. Por lo tanto, mi consejo es que uséis la de Glorot, y si ese día estáis aventureros y queréis ver si conseguís hacer que mejore la precisión, probéis con otras ;-)\n",
        "\n"
      ]
    },
    {
      "metadata": {
        "id": "zU6XrKlABlDE",
        "colab_type": "text"
      },
      "cell_type": "markdown",
      "source": [
        "# **FUENTES:**\n",
        "\n",
        "---\n",
        "https://www.analyticsvidhya.com/blog/2016/04/deep-learning-computer-vision-introduction-convolution-neural-networks/\n",
        "\n",
        "http://cs231n.github.io/neural-networks-2/"
      ]
    },
    {
      "metadata": {
        "id": "owGPgmwnBlvu",
        "colab_type": "code",
        "colab": {
          "autoexec": {
            "startup": false,
            "wait_interval": 0
          }
        }
      },
      "cell_type": "code",
      "source": [
        ""
      ],
      "execution_count": 0,
      "outputs": []
    }
  ]
}